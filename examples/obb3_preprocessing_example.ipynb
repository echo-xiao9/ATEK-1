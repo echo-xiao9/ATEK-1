{
 "cells": [
  {
   "cell_type": "markdown",
   "id": "dbb191bc",
   "metadata": {},
   "source": [
    "# ATEK Data Proprocessing Example"
   ]
  },
  {
   "cell_type": "markdown",
   "id": "5f8c32e7",
   "metadata": {},
   "source": [
    "### 1. Load the example adt data"
   ]
  },
  {
   "cell_type": "code",
   "execution_count": 1,
   "id": "4d00b2d5",
   "metadata": {
    "tags": []
   },
   "outputs": [],
   "source": [
    "import os\n",
    "\n",
    "from atek.data_preprocess.sample_builders.cubercnn_sample_builder import CubeRCNNSampleBuilder\n",
    "from atek.data_preprocess.wds_writer import AtekWdsWriter\n",
    "\n",
    "from omegaconf import OmegaConf\n",
    "\n",
    "example_adt_data_dir = \"/home/louy/Calibration_data_link/Atek/2024_01_25_AseTest/adt_data_example/1WM103600M1292_optitrack_SSL_1_Aria_OS_DinoToy_seq010\"\n",
    "example_ase_data_dir = \"/home/louy/Calibration_data_link/Atek/2024_05_07_EfmDataTest/ase_data_example/euston_simulation_100077_device0\"\n",
    "config_path = os.path.join(\"/home/louy/Calibration_data_link/Atek/2024_05_28_CubeRcnnTest/cubercnn_preprocess_ase_config.yaml\")\n",
    "\n",
    "conf = OmegaConf.load(config_path)"
   ]
  },
  {
   "cell_type": "markdown",
   "id": "fb3bddca",
   "metadata": {},
   "source": [
    "### 2. Sample builder example"
   ]
  },
  {
   "cell_type": "code",
   "execution_count": null,
   "id": "783bee71",
   "metadata": {
    "tags": []
   },
   "outputs": [],
   "source": [
    "sample_builder = CubeRCNNSampleBuilder(\n",
    "            conf=conf.processors,\n",
    "            vrs_file=os.path.join(example_ase_data_dir, \"video.vrs\"),\n",
    "            mps_files={\n",
    "                \"mps_closedloop_traj_file\": os.path.join(\n",
    "                    example_ase_data_dir, \"test_ADT_trajectory.csv\"\n",
    "                ),\n",
    "            },\n",
    "            gt_files={\n",
    "                \"obb3_file\": os.path.join(example_ase_data_dir, \"3d_bounding_box.csv\"),\n",
    "                \"obb3_traj_file\": os.path.join(\n",
    "                    example_ase_data_dir, \"scene_objects.csv\"\n",
    "                ),\n",
    "                \"obb2_file\": os.path.join(example_ase_data_dir, \"2d_bounding_box.csv\"),\n",
    "                \"instance_json_file\": os.path.join(\n",
    "                    example_ase_data_dir, \"instances.json\"\n",
    "                ),\n",
    "            },\n",
    "        )\n",
    "\n",
    "# Print the frame dataclass keys\n",
    "sample = sample_builder.get_sample_by_timestamp_ns(10_000_000_000)\n",
    "from dataclasses import asdict\n",
    "print(asdict(sample).keys())"
   ]
  },
  {
   "cell_type": "markdown",
   "id": "1325acd8",
   "metadata": {},
   "source": [
    "### 2. Write wds files"
   ]
  },
  {
   "cell_type": "code",
   "execution_count": null,
   "id": "b02d9c5e",
   "metadata": {
    "tags": []
   },
   "outputs": [],
   "source": [
    "from atek.data_preprocess.wds_writer import (\n",
    "    AtekWdsWriter,\n",
    ")\n",
    "from atek.data_preprocess.subsampling_lib.temporal_subsampler import CameraTemporalSubsampler\n",
    "\n",
    "subsampler = CameraTemporalSubsampler(vrs_file = os.path.join(example_ase_data_dir, \"video.vrs\"), conf = conf.camera_temporal_subsampler)\n",
    "\n",
    "conf.wds_writer.prefix_string = \"test\"\n",
    "atek_wds_writer = AtekWdsWriter(output_path = \"/home/louy/Calibration_data_link/Atek/2024_05_28_CubeRcnnTest/wds_output/test_cubercnn_ase_1\", conf = conf.wds_writer)\n",
    "\n",
    "for i in range(subsampler.get_total_num_samples()):\n",
    "    timestamps_ns = subsampler.get_timestamps_by_sample_index(i)\n",
    "    print(f\"sample {i} has timestamps of {timestamps_ns}\")\n",
    "    \n",
    "    for t in timestamps_ns:\n",
    "        sample = sample_builder.get_sample_by_timestamp_ns(t)\n",
    "        if sample is not None:\n",
    "            atek_wds_writer.add_sample(data_sample = sample)\n",
    "\n",
    "atek_wds_writer.close()\n"
   ]
  }
 ],
 "metadata": {
  "custom": {
   "cells": [],
   "metadata": {
    "fileHeader": "",
    "fileUid": "02960dd7-5391-4356-ae77-2454d13d7847",
    "isAdHoc": false,
    "kernelspec": {
     "display_name": "Python 3 (ipykernel)",
     "language": "python",
     "name": "python3"
    },
    "language_info": {
     "codemirror_mode": {
      "name": "ipython",
      "version": 3
     },
     "file_extension": ".py",
     "mimetype": "text/x-python",
     "name": "python",
     "nbconvert_exporter": "python",
     "pygments_lexer": "ipython3",
     "version": "3.9.18"
    }
   },
   "nbformat": 4,
   "nbformat_minor": 5
  },
  "fileHeader": "",
  "fileUid": "914eff7c-c62b-46d1-968a-560c4cfe4b20",
  "indentAmount": 2,
  "isAdHoc": false,
  "kernelspec": {
   "display_name": "Python 3 (ipykernel)",
   "language": "python",
   "name": "python3"
  },
  "language_info": {
   "codemirror_mode": {
    "name": "ipython",
    "version": 3
   },
   "file_extension": ".py",
   "mimetype": "text/x-python",
   "name": "python",
   "nbconvert_exporter": "python",
   "pygments_lexer": "ipython3",
   "version": "3.9.18"
  }
 },
 "nbformat": 4,
 "nbformat_minor": 5
}
