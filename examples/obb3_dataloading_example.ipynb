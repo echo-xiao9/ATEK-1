{
 "cells": [
  {
   "cell_type": "markdown",
   "id": "7cdc91eb-ad10-4d48-858f-5ee56aedfebd",
   "metadata": {},
   "source": [
    "# Data loading example"
   ]
  },
  {
   "cell_type": "code",
   "execution_count": null,
   "id": "903eb159-f4c3-49d5-8cae-51da1e79a110",
   "metadata": {},
   "outputs": [],
   "source": [
    "from atek.data_loaders.atek_wds_dataloader import load_atek_wds_dataset \n",
    "import yaml\n",
    "import os\n",
    "import webdataset as wds\n",
    "import numpy as np\n",
    "TRAJECTORY_COLOR = [30, 100, 30]\n",
    "GT_COLOR = [30, 200, 30]\n",
    "PRED_COLOR = [200, 30, 30]\n",
    "\n",
    "tar_dir = \"/home/louy/Calibration_data_link/Atek/2024_05_28_CubeRcnnTest/wds_output/test_cubercnn_ase_1/\"\n",
    "\n",
    "tars = [\n",
    "    os.path.join(tar_dir, f\"shards-000{i}.tar\") for i in range(7)\n",
    "]"
   ]
  },
  {
   "cell_type": "markdown",
   "id": "ad7ae8e0-9f81-429e-aa9f-b24551be3b4c",
   "metadata": {},
   "source": [
    "## Default native loading"
   ]
  },
  {
   "cell_type": "code",
   "execution_count": null,
   "id": "87b86bf5-82d5-4f73-b8c9-15e79d3de61c",
   "metadata": {},
   "outputs": [],
   "source": [
    "wds_dataset = load_atek_wds_dataset(urls = tars)\n",
    "\n",
    "# Print dict keys\n",
    "for obj in wds_dataset:\n",
    "    for key, value in obj.items():\n",
    "        print(f\"{key} has type of {type(value)}\")\n",
    "    break"
   ]
  },
  {
   "cell_type": "code",
   "execution_count": null,
   "id": "a41dfd2a-7246-4ac9-a3e4-41a6a1c84b8e",
   "metadata": {},
   "outputs": [],
   "source": [
    "print(\"RGB image tensor shape: \", obj['mfcd#camera-rgb+images'].shape)\n",
    "print(obj['mfcd#camera-slam-right+projection_params'])"
   ]
  },
  {
   "cell_type": "markdown",
   "id": "a9284dd8-4332-4200-a6c4-daeb40aa72c6",
   "metadata": {},
   "source": [
    "## Visualization for native data"
   ]
  },
  {
   "cell_type": "code",
   "execution_count": null,
   "id": "be7fe9ab-2056-422e-8bb1-b9e77b7b7145",
   "metadata": {},
   "outputs": [],
   "source": [
    "import rerun as rr\n",
    "from projectaria_tools.core.sophus import SE3\n",
    "from projectaria_tools.utils.rerun_helpers import ToTransform3D\n",
    "\n",
    "# Data visualization\n",
    "rr.init(\"ATEK Data Loader Viewer\", spawn=True)\n",
    "rr.serve(web_port=8888, ws_port=8877)"
   ]
  },
  {
   "cell_type": "code",
   "execution_count": null,
   "id": "a1d6afb7-84ec-4f7c-9ccf-919e9126a6e4",
   "metadata": {},
   "outputs": [],
   "source": [
    "from projectaria_tools.utils.rerun_helpers import ToTransform3D\n",
    "\n",
    "def log_pred_3d_2d_bbox(atek_wds_dict):\n",
    "    i_frame = 0\n",
    "    for x in atek_wds_dict[\"gtdata\"].values():\n",
    "        T_world_device = SE3.from_matrix3x4(atek_wds_dict[\"mtd#ts_world_device\"][i_frame, :, :])\n",
    "        T_device_cam = SE3.from_matrix3x4(atek_wds_dict[\"mfcd#camera-rgb+t_device_camera\"])\n",
    "        # HWC -> CWH\n",
    "        image = atek_wds_dict[\"mfcd#camera-rgb+images\"][i_frame].detach().cpu().permute(1, 2, 0).numpy()\n",
    "\n",
    "        # log device and camera locations\n",
    "        rr.log(\n",
    "            f\"world\", \n",
    "            ToTransform3D(SE3(), False),\n",
    "        )\n",
    "        \n",
    "        rr.log(\n",
    "            f\"world/device\", \n",
    "            ToTransform3D(T_world_device, False),\n",
    "        )\n",
    "        \n",
    "        rr.log(\n",
    "            f\"world/camera-rgb\",\n",
    "            ToTransform3D(T_world_device @ T_device_cam, False),\n",
    "        )\n",
    "        \n",
    "        \n",
    "\n",
    "        # log images\n",
    "        rr.log(\n",
    "            f\"image\",\n",
    "            rr.Image(image),\n",
    "        )\n",
    "\n",
    "        # For testing only\n",
    "        img_timestamp = atek_wds_dict[\"mfcd#camera-rgb+capture_timestamps_ns\"][i_frame].item()\n",
    "        rr.set_time_seconds(\"frame_time_ns\", img_timestamp)\n",
    "        pose_timestamp = atek_wds_dict[\"mtd#capture_timestamps_ns\"][i_frame].item()\n",
    "        # gt_timestamp = int(list(atek_wds_dict[\"gtdata\"].keys())[i_frame])\n",
    "        print(f\"img_time: {img_timestamp}, pose_time: {pose_timestamp}, difference in us: {(img_timestamp - pose_timestamp)/1e3}\")\n",
    "        \n",
    "        bb3ds_centers_infer = []\n",
    "        bb3ds_quats_xyzw_infer = []\n",
    "        bb3ds_sizes_infer = []\n",
    "        labels_infer = []\n",
    "        objs = list(x.values())\n",
    "        for obj_gt_dict in objs:\n",
    "            T_world_obj = SE3.from_matrix3x4(obj_gt_dict[\"T_World_Object\"])\n",
    "            bb3ds_centers_infer.append(T_world_obj.translation()[0])\n",
    "            wxyz = T_world_obj.rotation().to_quat()[0]\n",
    "            bb3ds_quats_xyzw_infer.append([wxyz[3], wxyz[0], wxyz[1], wxyz[2]])\n",
    "            bb3ds_sizes_infer.append(np.array(obj_gt_dict[\"object_dimensions\"]))\n",
    "            labels_infer.append(obj_gt_dict[\"category_name\"])            \n",
    "        \n",
    "        # log 3D bounding boxes\n",
    "        rr.log(\n",
    "            f\"world/bb3d_infer\",\n",
    "            rr.Boxes3D(\n",
    "                sizes=bb3ds_sizes_infer,\n",
    "                centers=bb3ds_centers_infer,\n",
    "                rotations=bb3ds_quats_xyzw_infer,\n",
    "                radii=0.01,\n",
    "                colors=PRED_COLOR,\n",
    "                labels=labels_infer,\n",
    "            ),\n",
    "        )\n",
    "        i_frame += 1\n",
    "    \n",
    "\n",
    "for data_dict in wds_dataset:\n",
    "    log_pred_3d_2d_bbox(data_dict)"
   ]
  },
  {
   "cell_type": "markdown",
   "id": "9401a6bd-b126-4684-aecb-a41556bdae0e",
   "metadata": {},
   "source": [
    "## Load as CubeRCNN data example"
   ]
  },
  {
   "cell_type": "code",
   "execution_count": null,
   "id": "d4c33915-a790-4503-a267-404cd19650cf",
   "metadata": {},
   "outputs": [],
   "source": [
    "import torch\n",
    "\n",
    "from detectron2.data import detection_utils\n",
    "from detectron2.structures import Boxes, BoxMode, Instances\n",
    "\n",
    "from atek.data_loaders.cubercnn_model_adaptor import load_atek_wds_dataset_as_cubercnn\n",
    "from tqdm import tqdm\n",
    "\n",
    "dataset = load_atek_wds_dataset_as_cubercnn(tars)\n",
    "\n",
    "sample = next(iter(dataset))\n",
    "\n",
    "print(sample.keys())\n",
    "print(\"Image shape: \", sample['image'].shape)\n",
    "print(\"K: \", sample['K'])"
   ]
  }
 ],
 "metadata": {
  "fileHeader": "",
  "fileUid": "a67d4f37-7a18-4bf6-be6a-25ae9a5f2932",
  "isAdHoc": false,
  "kernelspec": {
   "display_name": "Python 3 (ipykernel)",
   "language": "python",
   "name": "python3"
  },
  "language_info": {
   "codemirror_mode": {
    "name": "ipython",
    "version": 3
   },
   "file_extension": ".py",
   "mimetype": "text/x-python",
   "name": "python",
   "nbconvert_exporter": "python",
   "pygments_lexer": "ipython3",
   "version": "3.9.18"
  }
 },
 "nbformat": 4,
 "nbformat_minor": 5
}
