{
 "cells": [
  {
   "cell_type": "markdown",
   "id": "7cdc91eb-ad10-4d48-858f-5ee56aedfebd",
   "metadata": {},
   "source": [
    "# Data loading example"
   ]
  },
  {
   "cell_type": "code",
   "execution_count": null,
   "id": "903eb159-f4c3-49d5-8cae-51da1e79a110",
   "metadata": {},
   "outputs": [],
   "source": [
    "from atek.data_loaders.atek_wds_dataloader import load_atek_wds_dataset \n",
    "import yaml\n",
    "import os\n",
    "import webdataset as wds\n",
    "\n",
    "tars = [\n",
    "    \"/home/louy/Calibration_data_link/Atek/2024_05_01_AtekRefactorTest/test_wds_2/shards-0000.tar\",\n",
    "]"
   ]
  },
  {
   "cell_type": "markdown",
   "id": "ad7ae8e0-9f81-429e-aa9f-b24551be3b4c",
   "metadata": {},
   "source": [
    "## Default native loading"
   ]
  },
  {
   "cell_type": "code",
   "execution_count": null,
   "id": "87b86bf5-82d5-4f73-b8c9-15e79d3de61c",
   "metadata": {},
   "outputs": [],
   "source": [
    "wds_dataset = load_atek_wds_dataset(urls = tars)\n",
    "\n",
    "for obj in wds_dataset:\n",
    "    print(obj.keys())\n",
    "    for key, value in obj.items():\n",
    "        print(f\"{key} has type of {type(value)}\")\n",
    "\n",
    "    break"
   ]
  },
  {
   "cell_type": "code",
   "execution_count": null,
   "id": "a41dfd2a-7246-4ac9-a3e4-41a6a1c84b8e",
   "metadata": {},
   "outputs": [],
   "source": [
    "print(\"RGB image tensor shape: \", obj['mfcd#camera-rgb+images'].shape)\n",
    "print(obj['mfcd#camera-slam-right+projection_params'])"
   ]
  },
  {
   "cell_type": "markdown",
   "id": "9401a6bd-b126-4684-aecb-a41556bdae0e",
   "metadata": {},
   "source": [
    "## Data transform Example"
   ]
  },
  {
   "cell_type": "code",
   "execution_count": null,
   "id": "e25dd662-ecad-493c-98c0-0d128dcb6e6c",
   "metadata": {},
   "outputs": [],
   "source": [
    "\"\"\" \n",
    "target_key_map = {\n",
    "    \"f#214-1+image\": \"rgb_image\",\n",
    "}\n",
    "\n",
    "def simple_key_selection_fn(key: str) -> bool:\n",
    "    return key in target_key_map.keys()\n",
    "\n",
    "def simple_key_remap(key: str)-> str:\n",
    "    if key in target_key_map.keys():\n",
    "        return target_key_map[key]\n",
    "    else:\n",
    "        return key\n",
    "\n",
    "def simple_transform_fn(data):\n",
    "    \" Very naive implementation to use the first rgb image in the group\"\n",
    "    for sample in data:\n",
    "        new_sample = {}\n",
    "        for k, v in sample.items():\n",
    "            if k == 'rgb_image':\n",
    "                new_sample[k] = v[0]\n",
    "            else:\n",
    "                new_sample[k] = v\n",
    "        yield new_sample\n",
    "\n",
    "\n",
    "# Note that the transform order is \n",
    "# urls-> full atek dict-> [select keys] -> [remap keys] -> [more transform] -> [batch collation]\n",
    "transformed_ds = create_atek_webdataset(\n",
    "    urls = tars, \n",
    "    batch_size = 2, \n",
    "    nodesplitter=wds.shardlists.split_by_node,\n",
    "    select_key_fn = simple_key_selection_fn,\n",
    "    remap_key_fn = simple_key_remap,\n",
    "    data_transform_fn = wds.filters.pipelinefilter(simple_transform_fn)(),\n",
    ")\n",
    "trans_obj = next(iter(transformed_ds))\n",
    "print(trans_obj.keys())\n",
    "print(trans_obj[\"rgb_image\"].shape)\n",
    "\"\"\""
   ]
  },
  {
   "cell_type": "markdown",
   "id": "3061ea25-261c-45cf-a59b-f158e551cbf2",
   "metadata": {},
   "source": [
    "## Omni3d Loading for CubeRCNN"
   ]
  },
  {
   "cell_type": "code",
   "execution_count": null,
   "id": "d4c33915-a790-4503-a267-404cd19650cf",
   "metadata": {},
   "outputs": [],
   "source": [
    "\"\"\"\n",
    "from typing import List, Optional, Dict\n",
    "import torch\n",
    "\n",
    "from detectron2.data import detection_utils\n",
    "from detectron2.structures import Boxes, BoxMode, Instances\n",
    "\n",
    "from atek.dataset.omni3d_adapter import create_omni3d_webdataset\n",
    "\n",
    "omni3d_wds = create_omni3d_webdataset(tars, batch_size=2)\n",
    "dataloader = create_wds_dataloader(omni3d_wds, num_workers=4, pin_memory=False)\n",
    "\n",
    "from tqdm import tqdm\n",
    "sample_count = 0\n",
    "for data in tqdm(dataloader):\n",
    "    sample_count += len(data)\n",
    "    pass\n",
    "\n",
    "print(sample_count)\n",
    "\n",
    "print(data[0].keys())\n",
    "print(\"Image shape: \", data[0]['image'].shape)\n",
    "print(\"K: \", data[0]['K'])\n",
    "\"\"\""
   ]
  }
 ],
 "metadata": {
  "kernelspec": {
   "display_name": "Python 3 (ipykernel)",
   "language": "python",
   "name": "python3"
  },
  "language_info": {
   "codemirror_mode": {
    "name": "ipython",
    "version": 3
   },
   "file_extension": ".py",
   "mimetype": "text/x-python",
   "name": "python",
   "nbconvert_exporter": "python",
   "pygments_lexer": "ipython3",
   "version": "3.9.18"
  }
 },
 "nbformat": 4,
 "nbformat_minor": 5
}
