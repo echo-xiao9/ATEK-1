{
 "cells": [
  {
   "cell_type": "markdown",
   "id": "7cdc91eb-ad10-4d48-858f-5ee56aedfebd",
   "metadata": {},
   "source": [
    "# Data loading example"
   ]
  },
  {
   "cell_type": "code",
   "execution_count": 1,
   "id": "903eb159-f4c3-49d5-8cae-51da1e79a110",
   "metadata": {},
   "outputs": [],
   "source": [
    "from atek.data_loaders.atek_wds_dataloader import load_atek_wds_dataset \n",
    "import yaml\n",
    "import os\n",
    "import webdataset as wds\n",
    "\n",
    "tars = [\n",
    "    #\"/home/louy/Calibration_data_link/Atek/2024_05_01_AtekRefactorTest/test_wds_2/shards-0000.tar\",\n",
    "    \"https://www.internalfb.com/manifold/explorer/spaceport_data/tree/louy/wds_for_training/adt/_9/1WM103600M1292_optitrack_release_clean_seq131/shards-0000.tar\"\n",
    "]"
   ]
  },
  {
   "cell_type": "markdown",
   "id": "ad7ae8e0-9f81-429e-aa9f-b24551be3b4c",
   "metadata": {},
   "source": [
    "## Default native loading"
   ]
  },
  {
   "cell_type": "code",
   "execution_count": 2,
   "id": "87b86bf5-82d5-4f73-b8c9-15e79d3de61c",
   "metadata": {},
   "outputs": [
    {
     "ename": "ReadError",
     "evalue": "('invalid header', <webdataset.gopen.Pipe object at 0x7f8e40bb9af0>, 'https://www.internalfb.com/manifold/explorer/spaceport_data/tree/louy/wds_for_training/adt/_9/1WM103600M1292_optitrack_release_clean_seq131/shards-0000.tar')",
     "output_type": "error",
     "traceback": [
      "\u001b[0;31m---------------------------------------------------------------------------\u001b[0m",
      "\u001b[0;31mValueError\u001b[0m                                Traceback (most recent call last)",
      "File \u001b[0;32m~/miniconda3/envs/atek/lib/python3.9/tarfile.py:191\u001b[0m, in \u001b[0;36mnti\u001b[0;34m(s)\u001b[0m\n\u001b[1;32m    190\u001b[0m     s \u001b[38;5;241m=\u001b[39m nts(s, \u001b[38;5;124m\"\u001b[39m\u001b[38;5;124mascii\u001b[39m\u001b[38;5;124m\"\u001b[39m, \u001b[38;5;124m\"\u001b[39m\u001b[38;5;124mstrict\u001b[39m\u001b[38;5;124m\"\u001b[39m)\n\u001b[0;32m--> 191\u001b[0m     n \u001b[38;5;241m=\u001b[39m \u001b[38;5;28;43mint\u001b[39;49m\u001b[43m(\u001b[49m\u001b[43ms\u001b[49m\u001b[38;5;241;43m.\u001b[39;49m\u001b[43mstrip\u001b[49m\u001b[43m(\u001b[49m\u001b[43m)\u001b[49m\u001b[43m \u001b[49m\u001b[38;5;129;43;01mor\u001b[39;49;00m\u001b[43m \u001b[49m\u001b[38;5;124;43m\"\u001b[39;49m\u001b[38;5;124;43m0\u001b[39;49m\u001b[38;5;124;43m\"\u001b[39;49m\u001b[43m,\u001b[49m\u001b[43m \u001b[49m\u001b[38;5;241;43m8\u001b[39;49m\u001b[43m)\u001b[49m\n\u001b[1;32m    192\u001b[0m \u001b[38;5;28;01mexcept\u001b[39;00m \u001b[38;5;167;01mValueError\u001b[39;00m:\n",
      "\u001b[0;31mValueError\u001b[0m: invalid literal for int() with base 8: '\" /><scr'",
      "\nDuring handling of the above exception, another exception occurred:\n",
      "\u001b[0;31mInvalidHeaderError\u001b[0m                        Traceback (most recent call last)",
      "File \u001b[0;32m~/miniconda3/envs/atek/lib/python3.9/tarfile.py:2588\u001b[0m, in \u001b[0;36mTarFile.next\u001b[0;34m(self)\u001b[0m\n\u001b[1;32m   2587\u001b[0m \u001b[38;5;28;01mtry\u001b[39;00m:\n\u001b[0;32m-> 2588\u001b[0m     tarinfo \u001b[38;5;241m=\u001b[39m \u001b[38;5;28;43mself\u001b[39;49m\u001b[38;5;241;43m.\u001b[39;49m\u001b[43mtarinfo\u001b[49m\u001b[38;5;241;43m.\u001b[39;49m\u001b[43mfromtarfile\u001b[49m\u001b[43m(\u001b[49m\u001b[38;5;28;43mself\u001b[39;49m\u001b[43m)\u001b[49m\n\u001b[1;32m   2589\u001b[0m \u001b[38;5;28;01mexcept\u001b[39;00m EOFHeaderError \u001b[38;5;28;01mas\u001b[39;00m e:\n",
      "File \u001b[0;32m~/miniconda3/envs/atek/lib/python3.9/tarfile.py:1292\u001b[0m, in \u001b[0;36mTarInfo.fromtarfile\u001b[0;34m(cls, tarfile)\u001b[0m\n\u001b[1;32m   1291\u001b[0m buf \u001b[38;5;241m=\u001b[39m tarfile\u001b[38;5;241m.\u001b[39mfileobj\u001b[38;5;241m.\u001b[39mread(BLOCKSIZE)\n\u001b[0;32m-> 1292\u001b[0m obj \u001b[38;5;241m=\u001b[39m \u001b[38;5;28;43mcls\u001b[39;49m\u001b[38;5;241;43m.\u001b[39;49m\u001b[43mfrombuf\u001b[49m\u001b[43m(\u001b[49m\u001b[43mbuf\u001b[49m\u001b[43m,\u001b[49m\u001b[43m \u001b[49m\u001b[43mtarfile\u001b[49m\u001b[38;5;241;43m.\u001b[39;49m\u001b[43mencoding\u001b[49m\u001b[43m,\u001b[49m\u001b[43m \u001b[49m\u001b[43mtarfile\u001b[49m\u001b[38;5;241;43m.\u001b[39;49m\u001b[43merrors\u001b[49m\u001b[43m)\u001b[49m\n\u001b[1;32m   1293\u001b[0m obj\u001b[38;5;241m.\u001b[39moffset \u001b[38;5;241m=\u001b[39m tarfile\u001b[38;5;241m.\u001b[39mfileobj\u001b[38;5;241m.\u001b[39mtell() \u001b[38;5;241m-\u001b[39m BLOCKSIZE\n",
      "File \u001b[0;32m~/miniconda3/envs/atek/lib/python3.9/tarfile.py:1234\u001b[0m, in \u001b[0;36mTarInfo.frombuf\u001b[0;34m(cls, buf, encoding, errors)\u001b[0m\n\u001b[1;32m   1232\u001b[0m     \u001b[38;5;28;01mraise\u001b[39;00m EOFHeaderError(\u001b[38;5;124m\"\u001b[39m\u001b[38;5;124mend of file header\u001b[39m\u001b[38;5;124m\"\u001b[39m)\n\u001b[0;32m-> 1234\u001b[0m chksum \u001b[38;5;241m=\u001b[39m \u001b[43mnti\u001b[49m\u001b[43m(\u001b[49m\u001b[43mbuf\u001b[49m\u001b[43m[\u001b[49m\u001b[38;5;241;43m148\u001b[39;49m\u001b[43m:\u001b[49m\u001b[38;5;241;43m156\u001b[39;49m\u001b[43m]\u001b[49m\u001b[43m)\u001b[49m\n\u001b[1;32m   1235\u001b[0m \u001b[38;5;28;01mif\u001b[39;00m chksum \u001b[38;5;129;01mnot\u001b[39;00m \u001b[38;5;129;01min\u001b[39;00m calc_chksums(buf):\n",
      "File \u001b[0;32m~/miniconda3/envs/atek/lib/python3.9/tarfile.py:193\u001b[0m, in \u001b[0;36mnti\u001b[0;34m(s)\u001b[0m\n\u001b[1;32m    192\u001b[0m     \u001b[38;5;28;01mexcept\u001b[39;00m \u001b[38;5;167;01mValueError\u001b[39;00m:\n\u001b[0;32m--> 193\u001b[0m         \u001b[38;5;28;01mraise\u001b[39;00m InvalidHeaderError(\u001b[38;5;124m\"\u001b[39m\u001b[38;5;124minvalid header\u001b[39m\u001b[38;5;124m\"\u001b[39m)\n\u001b[1;32m    194\u001b[0m \u001b[38;5;28;01mreturn\u001b[39;00m n\n",
      "\u001b[0;31mInvalidHeaderError\u001b[0m: invalid header",
      "\nDuring handling of the above exception, another exception occurred:\n",
      "\u001b[0;31mReadError\u001b[0m                                 Traceback (most recent call last)",
      "Cell \u001b[0;32mIn[2], line 3\u001b[0m\n\u001b[1;32m      1\u001b[0m wds_dataset \u001b[38;5;241m=\u001b[39m load_atek_wds_dataset(urls \u001b[38;5;241m=\u001b[39m tars)\n\u001b[0;32m----> 3\u001b[0m \u001b[38;5;28;01mfor\u001b[39;00m obj \u001b[38;5;129;01min\u001b[39;00m wds_dataset:\n\u001b[1;32m      4\u001b[0m     \u001b[38;5;28mprint\u001b[39m(obj\u001b[38;5;241m.\u001b[39mkeys())\n\u001b[1;32m      5\u001b[0m     \u001b[38;5;28;01mfor\u001b[39;00m key, value \u001b[38;5;129;01min\u001b[39;00m obj\u001b[38;5;241m.\u001b[39mitems():\n",
      "File \u001b[0;32m~/miniconda3/envs/atek/lib/python3.9/site-packages/webdataset/pipeline.py:70\u001b[0m, in \u001b[0;36mDataPipeline.iterator\u001b[0;34m(self)\u001b[0m\n\u001b[1;32m     68\u001b[0m \u001b[38;5;250m\u001b[39m\u001b[38;5;124;03m\"\"\"Create an iterator through the entire dataset, using the given number of repetitions.\"\"\"\u001b[39;00m\n\u001b[1;32m     69\u001b[0m \u001b[38;5;28;01mfor\u001b[39;00m _ \u001b[38;5;129;01min\u001b[39;00m \u001b[38;5;28mrange\u001b[39m(\u001b[38;5;28mself\u001b[39m\u001b[38;5;241m.\u001b[39mrepetitions):\n\u001b[0;32m---> 70\u001b[0m     \u001b[38;5;28;01myield from\u001b[39;00m \u001b[38;5;28mself\u001b[39m\u001b[38;5;241m.\u001b[39miterator1()\n",
      "File \u001b[0;32m~/miniconda3/envs/atek/lib/python3.9/site-packages/webdataset/filters.py:302\u001b[0m, in \u001b[0;36m_map\u001b[0;34m(data, f, handler)\u001b[0m\n\u001b[1;32m    300\u001b[0m \u001b[38;5;28;01mdef\u001b[39;00m \u001b[38;5;21m_map\u001b[39m(data, f, handler\u001b[38;5;241m=\u001b[39mreraise_exception):\n\u001b[1;32m    301\u001b[0m \u001b[38;5;250m    \u001b[39m\u001b[38;5;124;03m\"\"\"Map samples.\"\"\"\u001b[39;00m\n\u001b[0;32m--> 302\u001b[0m     \u001b[38;5;28;01mfor\u001b[39;00m sample \u001b[38;5;129;01min\u001b[39;00m data:\n\u001b[1;32m    303\u001b[0m         \u001b[38;5;28;01mtry\u001b[39;00m:\n\u001b[1;32m    304\u001b[0m             result \u001b[38;5;241m=\u001b[39m f(sample)\n",
      "File \u001b[0;32m~/miniconda3/envs/atek/lib/python3.9/site-packages/webdataset/filters.py:302\u001b[0m, in \u001b[0;36m_map\u001b[0;34m(data, f, handler)\u001b[0m\n\u001b[1;32m    300\u001b[0m \u001b[38;5;28;01mdef\u001b[39;00m \u001b[38;5;21m_map\u001b[39m(data, f, handler\u001b[38;5;241m=\u001b[39mreraise_exception):\n\u001b[1;32m    301\u001b[0m \u001b[38;5;250m    \u001b[39m\u001b[38;5;124;03m\"\"\"Map samples.\"\"\"\u001b[39;00m\n\u001b[0;32m--> 302\u001b[0m     \u001b[38;5;28;01mfor\u001b[39;00m sample \u001b[38;5;129;01min\u001b[39;00m data:\n\u001b[1;32m    303\u001b[0m         \u001b[38;5;28;01mtry\u001b[39;00m:\n\u001b[1;32m    304\u001b[0m             result \u001b[38;5;241m=\u001b[39m f(sample)\n",
      "File \u001b[0;32m~/miniconda3/envs/atek/lib/python3.9/site-packages/webdataset/tariterators.py:219\u001b[0m, in \u001b[0;36mgroup_by_keys\u001b[0;34m(data, keys, lcase, suffixes, handler)\u001b[0m\n\u001b[1;32m    203\u001b[0m \u001b[38;5;250m\u001b[39m\u001b[38;5;124;03m\"\"\"Group tarfile contents by keys and yield samples.\u001b[39;00m\n\u001b[1;32m    204\u001b[0m \n\u001b[1;32m    205\u001b[0m \u001b[38;5;124;03mArgs:\u001b[39;00m\n\u001b[0;32m   (...)\u001b[0m\n\u001b[1;32m    216\u001b[0m \u001b[38;5;124;03m    iterator over samples.\u001b[39;00m\n\u001b[1;32m    217\u001b[0m \u001b[38;5;124;03m\"\"\"\u001b[39;00m\n\u001b[1;32m    218\u001b[0m current_sample \u001b[38;5;241m=\u001b[39m \u001b[38;5;28;01mNone\u001b[39;00m\n\u001b[0;32m--> 219\u001b[0m \u001b[38;5;28;01mfor\u001b[39;00m filesample \u001b[38;5;129;01min\u001b[39;00m data:\n\u001b[1;32m    220\u001b[0m     \u001b[38;5;28;01mtry\u001b[39;00m:\n\u001b[1;32m    221\u001b[0m         \u001b[38;5;28;01massert\u001b[39;00m \u001b[38;5;28misinstance\u001b[39m(filesample, \u001b[38;5;28mdict\u001b[39m)\n",
      "File \u001b[0;32m~/miniconda3/envs/atek/lib/python3.9/site-packages/webdataset/tariterators.py:190\u001b[0m, in \u001b[0;36mtar_file_expander\u001b[0;34m(data, handler, select_files, rename_files)\u001b[0m\n\u001b[1;32m    188\u001b[0m \u001b[38;5;28;01mexcept\u001b[39;00m \u001b[38;5;167;01mException\u001b[39;00m \u001b[38;5;28;01mas\u001b[39;00m exn:\n\u001b[1;32m    189\u001b[0m     exn\u001b[38;5;241m.\u001b[39margs \u001b[38;5;241m=\u001b[39m exn\u001b[38;5;241m.\u001b[39margs \u001b[38;5;241m+\u001b[39m (source\u001b[38;5;241m.\u001b[39mget(\u001b[38;5;124m\"\u001b[39m\u001b[38;5;124mstream\u001b[39m\u001b[38;5;124m\"\u001b[39m), source\u001b[38;5;241m.\u001b[39mget(\u001b[38;5;124m\"\u001b[39m\u001b[38;5;124murl\u001b[39m\u001b[38;5;124m\"\u001b[39m))\n\u001b[0;32m--> 190\u001b[0m     \u001b[38;5;28;01mif\u001b[39;00m \u001b[43mhandler\u001b[49m\u001b[43m(\u001b[49m\u001b[43mexn\u001b[49m\u001b[43m)\u001b[49m:\n\u001b[1;32m    191\u001b[0m         \u001b[38;5;28;01mcontinue\u001b[39;00m\n\u001b[1;32m    192\u001b[0m     \u001b[38;5;28;01melse\u001b[39;00m:\n",
      "File \u001b[0;32m~/miniconda3/envs/atek/lib/python3.9/site-packages/webdataset/filters.py:86\u001b[0m, in \u001b[0;36mreraise_exception\u001b[0;34m(exn)\u001b[0m\n\u001b[1;32m     81\u001b[0m \u001b[38;5;28;01mdef\u001b[39;00m \u001b[38;5;21mreraise_exception\u001b[39m(exn):\n\u001b[1;32m     82\u001b[0m \u001b[38;5;250m    \u001b[39m\u001b[38;5;124;03m\"\"\"Reraises the given exception; used as a handler.\u001b[39;00m\n\u001b[1;32m     83\u001b[0m \n\u001b[1;32m     84\u001b[0m \u001b[38;5;124;03m    :param exn: exception\u001b[39;00m\n\u001b[1;32m     85\u001b[0m \u001b[38;5;124;03m    \"\"\"\u001b[39;00m\n\u001b[0;32m---> 86\u001b[0m     \u001b[38;5;28;01mraise\u001b[39;00m exn\n",
      "File \u001b[0;32m~/miniconda3/envs/atek/lib/python3.9/site-packages/webdataset/tariterators.py:177\u001b[0m, in \u001b[0;36mtar_file_expander\u001b[0;34m(data, handler, select_files, rename_files)\u001b[0m\n\u001b[1;32m    175\u001b[0m \u001b[38;5;28;01massert\u001b[39;00m \u001b[38;5;28misinstance\u001b[39m(source, \u001b[38;5;28mdict\u001b[39m)\n\u001b[1;32m    176\u001b[0m \u001b[38;5;28;01massert\u001b[39;00m \u001b[38;5;124m\"\u001b[39m\u001b[38;5;124mstream\u001b[39m\u001b[38;5;124m\"\u001b[39m \u001b[38;5;129;01min\u001b[39;00m source\n\u001b[0;32m--> 177\u001b[0m \u001b[38;5;28;01mfor\u001b[39;00m sample \u001b[38;5;129;01min\u001b[39;00m tar_file_iterator(\n\u001b[1;32m    178\u001b[0m     source[\u001b[38;5;124m\"\u001b[39m\u001b[38;5;124mstream\u001b[39m\u001b[38;5;124m\"\u001b[39m],\n\u001b[1;32m    179\u001b[0m     handler\u001b[38;5;241m=\u001b[39mhandler,\n\u001b[1;32m    180\u001b[0m     select_files\u001b[38;5;241m=\u001b[39mselect_files,\n\u001b[1;32m    181\u001b[0m     rename_files\u001b[38;5;241m=\u001b[39mrename_files,\n\u001b[1;32m    182\u001b[0m ):\n\u001b[1;32m    183\u001b[0m     \u001b[38;5;28;01massert\u001b[39;00m (\n\u001b[1;32m    184\u001b[0m         \u001b[38;5;28misinstance\u001b[39m(sample, \u001b[38;5;28mdict\u001b[39m) \u001b[38;5;129;01mand\u001b[39;00m \u001b[38;5;124m\"\u001b[39m\u001b[38;5;124mdata\u001b[39m\u001b[38;5;124m\"\u001b[39m \u001b[38;5;129;01min\u001b[39;00m sample \u001b[38;5;129;01mand\u001b[39;00m \u001b[38;5;124m\"\u001b[39m\u001b[38;5;124mfname\u001b[39m\u001b[38;5;124m\"\u001b[39m \u001b[38;5;129;01min\u001b[39;00m sample\n\u001b[1;32m    185\u001b[0m     )\n\u001b[1;32m    186\u001b[0m     sample[\u001b[38;5;124m\"\u001b[39m\u001b[38;5;124m__url__\u001b[39m\u001b[38;5;124m\"\u001b[39m] \u001b[38;5;241m=\u001b[39m url\n",
      "File \u001b[0;32m~/miniconda3/envs/atek/lib/python3.9/site-packages/webdataset/tariterators.py:121\u001b[0m, in \u001b[0;36mtar_file_iterator\u001b[0;34m(fileobj, skip_meta, handler, select_files, rename_files)\u001b[0m\n\u001b[1;32m    103\u001b[0m \u001b[38;5;28;01mdef\u001b[39;00m \u001b[38;5;21mtar_file_iterator\u001b[39m(\n\u001b[1;32m    104\u001b[0m     fileobj: tarfile\u001b[38;5;241m.\u001b[39mTarFile,\n\u001b[1;32m    105\u001b[0m     skip_meta: Optional[\u001b[38;5;28mstr\u001b[39m] \u001b[38;5;241m=\u001b[39m \u001b[38;5;124mr\u001b[39m\u001b[38;5;124m\"\u001b[39m\u001b[38;5;124m__[^/]*__($|/)\u001b[39m\u001b[38;5;124m\"\u001b[39m,\n\u001b[0;32m   (...)\u001b[0m\n\u001b[1;32m    108\u001b[0m     rename_files: Optional[Callable[[\u001b[38;5;28mstr\u001b[39m], \u001b[38;5;28mstr\u001b[39m]] \u001b[38;5;241m=\u001b[39m \u001b[38;5;28;01mNone\u001b[39;00m,\n\u001b[1;32m    109\u001b[0m ) \u001b[38;5;241m-\u001b[39m\u001b[38;5;241m>\u001b[39m Iterator[Dict[\u001b[38;5;28mstr\u001b[39m, Any]]:\n\u001b[1;32m    110\u001b[0m \u001b[38;5;250m    \u001b[39m\u001b[38;5;124;03m\"\"\"Iterate over tar file, yielding filename, content pairs for the given tar stream.\u001b[39;00m\n\u001b[1;32m    111\u001b[0m \n\u001b[1;32m    112\u001b[0m \u001b[38;5;124;03m    Args:\u001b[39;00m\n\u001b[0;32m   (...)\u001b[0m\n\u001b[1;32m    119\u001b[0m \u001b[38;5;124;03m        a stream of samples.\u001b[39;00m\n\u001b[1;32m    120\u001b[0m \u001b[38;5;124;03m    \"\"\"\u001b[39;00m\n\u001b[0;32m--> 121\u001b[0m     stream \u001b[38;5;241m=\u001b[39m \u001b[43mtarfile\u001b[49m\u001b[38;5;241;43m.\u001b[39;49m\u001b[43mopen\u001b[49m\u001b[43m(\u001b[49m\u001b[43mfileobj\u001b[49m\u001b[38;5;241;43m=\u001b[39;49m\u001b[43mfileobj\u001b[49m\u001b[43m,\u001b[49m\u001b[43m \u001b[49m\u001b[43mmode\u001b[49m\u001b[38;5;241;43m=\u001b[39;49m\u001b[38;5;124;43m\"\u001b[39;49m\u001b[38;5;124;43mr|*\u001b[39;49m\u001b[38;5;124;43m\"\u001b[39;49m\u001b[43m)\u001b[49m\n\u001b[1;32m    122\u001b[0m     \u001b[38;5;28;01mfor\u001b[39;00m tarinfo \u001b[38;5;129;01min\u001b[39;00m stream:\n\u001b[1;32m    123\u001b[0m         fname \u001b[38;5;241m=\u001b[39m tarinfo\u001b[38;5;241m.\u001b[39mname\n",
      "File \u001b[0;32m~/miniconda3/envs/atek/lib/python3.9/tarfile.py:1822\u001b[0m, in \u001b[0;36mTarFile.open\u001b[0;34m(cls, name, mode, fileobj, bufsize, **kwargs)\u001b[0m\n\u001b[1;32m   1820\u001b[0m stream \u001b[38;5;241m=\u001b[39m _Stream(name, filemode, comptype, fileobj, bufsize)\n\u001b[1;32m   1821\u001b[0m \u001b[38;5;28;01mtry\u001b[39;00m:\n\u001b[0;32m-> 1822\u001b[0m     t \u001b[38;5;241m=\u001b[39m \u001b[38;5;28;43mcls\u001b[39;49m\u001b[43m(\u001b[49m\u001b[43mname\u001b[49m\u001b[43m,\u001b[49m\u001b[43m \u001b[49m\u001b[43mfilemode\u001b[49m\u001b[43m,\u001b[49m\u001b[43m \u001b[49m\u001b[43mstream\u001b[49m\u001b[43m,\u001b[49m\u001b[43m \u001b[49m\u001b[38;5;241;43m*\u001b[39;49m\u001b[38;5;241;43m*\u001b[39;49m\u001b[43mkwargs\u001b[49m\u001b[43m)\u001b[49m\n\u001b[1;32m   1823\u001b[0m \u001b[38;5;28;01mexcept\u001b[39;00m:\n\u001b[1;32m   1824\u001b[0m     stream\u001b[38;5;241m.\u001b[39mclose()\n",
      "File \u001b[0;32m~/miniconda3/envs/atek/lib/python3.9/tarfile.py:1703\u001b[0m, in \u001b[0;36mTarFile.__init__\u001b[0;34m(self, name, mode, fileobj, format, tarinfo, dereference, ignore_zeros, encoding, errors, pax_headers, debug, errorlevel, copybufsize)\u001b[0m\n\u001b[1;32m   1701\u001b[0m \u001b[38;5;28;01mif\u001b[39;00m \u001b[38;5;28mself\u001b[39m\u001b[38;5;241m.\u001b[39mmode \u001b[38;5;241m==\u001b[39m \u001b[38;5;124m\"\u001b[39m\u001b[38;5;124mr\u001b[39m\u001b[38;5;124m\"\u001b[39m:\n\u001b[1;32m   1702\u001b[0m     \u001b[38;5;28mself\u001b[39m\u001b[38;5;241m.\u001b[39mfirstmember \u001b[38;5;241m=\u001b[39m \u001b[38;5;28;01mNone\u001b[39;00m\n\u001b[0;32m-> 1703\u001b[0m     \u001b[38;5;28mself\u001b[39m\u001b[38;5;241m.\u001b[39mfirstmember \u001b[38;5;241m=\u001b[39m \u001b[38;5;28;43mself\u001b[39;49m\u001b[38;5;241;43m.\u001b[39;49m\u001b[43mnext\u001b[49m\u001b[43m(\u001b[49m\u001b[43m)\u001b[49m\n\u001b[1;32m   1705\u001b[0m \u001b[38;5;28;01mif\u001b[39;00m \u001b[38;5;28mself\u001b[39m\u001b[38;5;241m.\u001b[39mmode \u001b[38;5;241m==\u001b[39m \u001b[38;5;124m\"\u001b[39m\u001b[38;5;124ma\u001b[39m\u001b[38;5;124m\"\u001b[39m:\n\u001b[1;32m   1706\u001b[0m     \u001b[38;5;66;03m# Move to the end of the archive,\u001b[39;00m\n\u001b[1;32m   1707\u001b[0m     \u001b[38;5;66;03m# before the first empty block.\u001b[39;00m\n\u001b[1;32m   1708\u001b[0m     \u001b[38;5;28;01mwhile\u001b[39;00m \u001b[38;5;28;01mTrue\u001b[39;00m:\n",
      "File \u001b[0;32m~/miniconda3/envs/atek/lib/python3.9/tarfile.py:2600\u001b[0m, in \u001b[0;36mTarFile.next\u001b[0;34m(self)\u001b[0m\n\u001b[1;32m   2598\u001b[0m         \u001b[38;5;28;01mcontinue\u001b[39;00m\n\u001b[1;32m   2599\u001b[0m     \u001b[38;5;28;01melif\u001b[39;00m \u001b[38;5;28mself\u001b[39m\u001b[38;5;241m.\u001b[39moffset \u001b[38;5;241m==\u001b[39m \u001b[38;5;241m0\u001b[39m:\n\u001b[0;32m-> 2600\u001b[0m         \u001b[38;5;28;01mraise\u001b[39;00m ReadError(\u001b[38;5;28mstr\u001b[39m(e))\n\u001b[1;32m   2601\u001b[0m \u001b[38;5;28;01mexcept\u001b[39;00m EmptyHeaderError:\n\u001b[1;32m   2602\u001b[0m     \u001b[38;5;28;01mif\u001b[39;00m \u001b[38;5;28mself\u001b[39m\u001b[38;5;241m.\u001b[39moffset \u001b[38;5;241m==\u001b[39m \u001b[38;5;241m0\u001b[39m:\n",
      "\u001b[0;31mReadError\u001b[0m: ('invalid header', <webdataset.gopen.Pipe object at 0x7f8e40bb9af0>, 'https://www.internalfb.com/manifold/explorer/spaceport_data/tree/louy/wds_for_training/adt/_9/1WM103600M1292_optitrack_release_clean_seq131/shards-0000.tar')"
     ]
    }
   ],
   "source": [
    "wds_dataset = load_atek_wds_dataset(urls = tars)\n",
    "\n",
    "for obj in wds_dataset:\n",
    "    print(obj.keys())\n",
    "    for key, value in obj.items():\n",
    "        print(f\"{key} has type of {type(value)}\")\n",
    "\n",
    "    break"
   ]
  },
  {
   "cell_type": "code",
   "execution_count": null,
   "id": "a41dfd2a-7246-4ac9-a3e4-41a6a1c84b8e",
   "metadata": {},
   "outputs": [],
   "source": [
    "print(\"RGB image tensor shape: \", obj['mfcd#camera-rgb+images'].shape)\n",
    "print(obj['mfcd#camera-slam-right+projection_params'])"
   ]
  },
  {
   "cell_type": "markdown",
   "id": "9401a6bd-b126-4684-aecb-a41556bdae0e",
   "metadata": {},
   "source": [
    "## Data transform Example"
   ]
  },
  {
   "cell_type": "code",
   "execution_count": null,
   "id": "e25dd662-ecad-493c-98c0-0d128dcb6e6c",
   "metadata": {},
   "outputs": [],
   "source": [
    "\"\"\" \n",
    "target_key_map = {\n",
    "    \"f#214-1+image\": \"rgb_image\",\n",
    "}\n",
    "\n",
    "def simple_key_selection_fn(key: str) -> bool:\n",
    "    return key in target_key_map.keys()\n",
    "\n",
    "def simple_key_remap(key: str)-> str:\n",
    "    if key in target_key_map.keys():\n",
    "        return target_key_map[key]\n",
    "    else:\n",
    "        return key\n",
    "\n",
    "def simple_transform_fn(data):\n",
    "    \" Very naive implementation to use the first rgb image in the group\"\n",
    "    for sample in data:\n",
    "        new_sample = {}\n",
    "        for k, v in sample.items():\n",
    "            if k == 'rgb_image':\n",
    "                new_sample[k] = v[0]\n",
    "            else:\n",
    "                new_sample[k] = v\n",
    "        yield new_sample\n",
    "\n",
    "\n",
    "# Note that the transform order is \n",
    "# urls-> full atek dict-> [select keys] -> [remap keys] -> [more transform] -> [batch collation]\n",
    "transformed_ds = create_atek_webdataset(\n",
    "    urls = tars, \n",
    "    batch_size = 2, \n",
    "    nodesplitter=wds.shardlists.split_by_node,\n",
    "    select_key_fn = simple_key_selection_fn,\n",
    "    remap_key_fn = simple_key_remap,\n",
    "    data_transform_fn = wds.filters.pipelinefilter(simple_transform_fn)(),\n",
    ")\n",
    "trans_obj = next(iter(transformed_ds))\n",
    "print(trans_obj.keys())\n",
    "print(trans_obj[\"rgb_image\"].shape)\n",
    "\"\"\""
   ]
  },
  {
   "cell_type": "markdown",
   "id": "3061ea25-261c-45cf-a59b-f158e551cbf2",
   "metadata": {},
   "source": [
    "## Omni3d Loading for CubeRCNN"
   ]
  },
  {
   "cell_type": "code",
   "execution_count": null,
   "id": "d4c33915-a790-4503-a267-404cd19650cf",
   "metadata": {},
   "outputs": [],
   "source": [
    "\"\"\"\n",
    "from typing import List, Optional, Dict\n",
    "import torch\n",
    "\n",
    "from detectron2.data import detection_utils\n",
    "from detectron2.structures import Boxes, BoxMode, Instances\n",
    "\n",
    "from atek.dataset.omni3d_adapter import create_omni3d_webdataset\n",
    "\n",
    "omni3d_wds = create_omni3d_webdataset(tars, batch_size=2)\n",
    "dataloader = create_wds_dataloader(omni3d_wds, num_workers=4, pin_memory=False)\n",
    "\n",
    "from tqdm import tqdm\n",
    "sample_count = 0\n",
    "for data in tqdm(dataloader):\n",
    "    sample_count += len(data)\n",
    "    pass\n",
    "\n",
    "print(sample_count)\n",
    "\n",
    "print(data[0].keys())\n",
    "print(\"Image shape: \", data[0]['image'].shape)\n",
    "print(\"K: \", data[0]['K'])\n",
    "\"\"\""
   ]
  }
 ],
 "metadata": {
  "kernelspec": {
   "display_name": "Python 3 (ipykernel)",
   "language": "python",
   "name": "python3"
  },
  "language_info": {
   "codemirror_mode": {
    "name": "ipython",
    "version": 3
   },
   "file_extension": ".py",
   "mimetype": "text/x-python",
   "name": "python",
   "nbconvert_exporter": "python",
   "pygments_lexer": "ipython3",
   "version": "3.9.18"
  }
 },
 "nbformat": 4,
 "nbformat_minor": 5
}
