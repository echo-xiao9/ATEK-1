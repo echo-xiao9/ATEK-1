{
    "cells": [
        {
            "cell_type": "markdown",
            "id": "80a35ec7",
            "metadata": {},
            "source": [
                "# ATEK Data Proprocessing Example (EFM model)"
            ]
        },
        {
            "cell_type": "markdown",
            "id": "a323b5ff",
            "metadata": {},
            "source": [
                "### 1. Load the example adt data"
            ]
        },
        {
            "cell_type": "code",
            "execution_count": 6,
            "id": "e26d2e0e",
            "metadata": {
                "tags": []
            },
            "outputs": [],
            "source": [
                "import os\n",
                "\n",
                "from atek.data_preprocess.sample_builders.efm_sample_builder import EfmSampleBuilder\n",
                "from atek.data_preprocess.wds_writer import AtekWdsWriter\n",
                "\n",
                "from omegaconf import OmegaConf\n",
                "\n",
                "import logging\n",
                "from logging import StreamHandler\n",
                "\n",
                "handler = StreamHandler()\n",
                "formatter = logging.Formatter('%(asctime)s - %(levelname)s - %(message)s')\n",
                "handler.setFormatter(formatter)\n",
                "\n",
                "logger = logging.getLogger()\n",
                "logger.addHandler(handler)\n",
                "\n",
                "example_adt_data_dir = \"/home/louy/Calibration_data_link/Atek/2024_05_07_EfmDataTest/adt_data_example/Apartment_release_clean_seq134/1WM103600M1292_optitrack_release_clean_seq134\"\n",
                "config_path = os.path.join(\"/home/louy/fbsource/fbcode/surreal/data_services/atek/atek/configs/efm_preprocess_base.yaml\")\n",
                "\n",
                "conf = OmegaConf.load(config_path)"
            ]
        },
        {
            "cell_type": "markdown",
            "id": "29962863",
            "metadata": {},
            "source": [
                "### 2. Sample builder example"
            ]
        },
        {
            "cell_type": "code",
            "execution_count": null,
            "id": "018ad09e",
            "metadata": {
                "tags": []
            },
            "outputs": [],
            "source": [
                "sample_builder = EfmSampleBuilder(\n",
                "    conf=conf.processors,\n",
                "    vrs_file=os.path.join(example_adt_data_dir, \"video.vrs\"),\n",
                "    mps_files={\n",
                "        \"mps_closedloop_traj_file\": os.path.join(\n",
                "            example_adt_data_dir, \"aria_trajectory.csv\"),\n",
                "        \"mps_semidense_points_file\": os.path.join(example_adt_data_dir, \"mps\", \"slam\", \"semidense_points.csv.gz\"),\n",
                "        \"mps_semidense_observations_file\": os.path.join(example_adt_data_dir, \"mps\", \"slam\", \"semidense_observations.csv.gz\"),\n",
                "    },\n",
                "    gt_files={\n",
                "        \"obb3_file\": os.path.join(example_adt_data_dir, \"3d_bounding_box.csv\"),\n",
                "        \"obb3_traj_file\": os.path.join(\n",
                "            example_adt_data_dir, \"scene_objects.csv\"\n",
                "        ),\n",
                "        \"instance_json_file\": os.path.join(\n",
                "            example_adt_data_dir, \"instances.json\"\n",
                "        ),\n",
                "    },\n",
                "    depth_vrs_file = os.path.join(example_adt_data_dir, \"depth_images.vrs\")\n",
                ")\n",
                "\n"
            ]
        },
        {
            "cell_type": "code",
            "execution_count": null,
            "id": "3627ef4e-615b-4686-9957-eac4e6df9e70",
            "metadata": {},
            "outputs": [],
            "source": [
                "# Print the frame dataclass keys\n",
                "sample = sample_builder.get_sample_by_timestamps_ns([14601564806000])\n",
                "from dataclasses import asdict\n",
                "print(asdict(sample).keys())"
            ]
        },
        {
            "cell_type": "markdown",
            "id": "f3cfcbf2",
            "metadata": {},
            "source": [
                "### 2. Write wds files"
            ]
        },
        {
            "cell_type": "code",
            "execution_count": null,
            "id": "b8c0a560",
            "metadata": {
                "tags": []
            },
            "outputs": [],
            "source": [
                "from atek.data_preprocess.wds_writer import (\n",
                "    AtekWdsWriter,\n",
                ")\n",
                "from atek.data_preprocess.subsampling_lib.temporal_subsampler import CameraTemporalSubsampler\n",
                "\n",
                "subsampler = CameraTemporalSubsampler(vrs_file = os.path.join(example_adt_data_dir, \"video.vrs\"), conf = conf.camera_temporal_subsampler)\n",
                "\n",
                "conf.wds_writer.prefix_string = \"test\"\n",
                "atek_wds_writer = AtekWdsWriter(output_path = \"/home/louy/Calibration_data_link/Atek/2024_05_07_EfmDataTest/wds_output/test_1\", conf = conf.wds_writer)\n",
                "\n",
                "for i in range(subsampler.get_total_num_samples()):\n",
                "    timestamps_ns = subsampler.get_timestamps_by_sample_index(i)\n",
                "\n",
                "    sample = sample_builder.get_sample_by_timestamps_ns(timestamps_ns)\n",
                "    if sample is not None:\n",
                "        atek_wds_writer.add_sample(data_sample = sample)\n",
                "\n",
                "atek_wds_writer.close()\n"
            ]
        }
    ],
    "metadata": {
        "custom": {
            "cells": [],
            "metadata": {
                "fileHeader": "",
                "fileUid": "02960dd7-5391-4356-ae77-2454d13d7847",
                "isAdHoc": false,
                "kernelspec": {
                    "display_name": "Python 3 (ipykernel)",
                    "language": "python",
                    "name": "python3"
                },
                "language_info": {
                    "codemirror_mode": {
                        "name": "ipython",
                        "version": 3
                    },
                    "file_extension": ".py",
                    "mimetype": "text/x-python",
                    "name": "python",
                    "nbconvert_exporter": "python",
                    "pygments_lexer": "ipython3",
                    "version": "3.9.18"
                }
            },
            "nbformat": 4,
            "nbformat_minor": 5
        },
        "fileHeader": "",
        "fileUid": "914eff7c-c62b-46d1-968a-560c4cfe4b20",
        "indentAmount": 2,
        "isAdHoc": false,
        "kernelspec": {
            "display_name": "Python 3 (ipykernel)",
            "language": "python",
            "name": "python3"
        },
        "language_info": {
            "codemirror_mode": {
                "name": "ipython",
                "version": 3
            },
            "file_extension": ".py",
            "mimetype": "text/x-python",
            "name": "python",
            "nbconvert_exporter": "python",
            "pygments_lexer": "ipython3",
            "version": "3.9.18"
        }
    }
}
