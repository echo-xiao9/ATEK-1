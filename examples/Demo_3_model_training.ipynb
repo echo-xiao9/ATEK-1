{
 "cells": [
  {
   "cell_type": "markdown",
   "id": "702636c5-600d-4fb1-a0f0-4ae108330d88",
   "metadata": {},
   "source": [
    "# Demo 3: Model training in ATEK\n",
    "\n",
    "Note: if you are seeing contaminated warning messages about `webdataset/autodecode.py: Future Warning`, this can be resolved by installing the main-branch of `webdataset` library: \n",
    "```\n",
    "mamba uninstall webdataset\n",
    "pip install git+https://github.com/webdataset/webdataset.git@69673059ab680195f6f6d2727077f69693c60af9\n",
    "```"
   ]
  },
  {
   "cell_type": "code",
   "execution_count": null,
   "id": "8e83e890-0945-4f50-8ada-fa427d08d7ba",
   "metadata": {},
   "outputs": [],
   "source": [
    "import faulthandler\n",
    "\n",
    "import logging\n",
    "import os\n",
    "# Suppress warnings from WDS lib\n",
    "os.environ[\"WDS_PYTORCH_WEIGHTS_ONLY\"] = \"1\"\n",
    "\n",
    "from logging import StreamHandler\n",
    "import numpy as np\n",
    "from typing import Dict, List, Optional\n",
    "import torch\n",
    "import sys\n",
    "import subprocess\n",
    "from tqdm import tqdm\n",
    "\n",
    "from atek.viz.atek_visualizer import NativeAtekSampleVisualizer\n",
    "from atek.data_loaders.atek_wds_dataloader import (\n",
    "    create_native_atek_dataloader\n",
    ")\n",
    "from atek.util.file_io_utils import load_yaml_and_extract_tar_list\n",
    "from omegaconf import OmegaConf\n",
    "\n",
    "faulthandler.enable()\n",
    "\n",
    "# Configure logging to display the log messages in the notebook\n",
    "logging.basicConfig(\n",
    "    level=logging.INFO,\n",
    "    format='%(asctime)s - %(levelname)s - %(message)s',\n",
    "    handlers=[\n",
    "        logging.StreamHandler(sys.stdout)\n",
    "    ]\n",
    ")\n",
    "\n",
    "logger = logging.getLogger()\n",
    "\n",
    "def run_command_and_display_output(command):\n",
    "    # Start the process\n",
    "    process = subprocess.Popen(command, stdout=subprocess.PIPE, stderr=subprocess.STDOUT, text=True)\n",
    "\n",
    "    # Poll process.stdout to show stdout live\n",
    "    while True:\n",
    "        output = process.stdout.readline()\n",
    "        if output == '' and process.poll() is not None:\n",
    "            break\n",
    "        if output:\n",
    "            print(output.strip())\n",
    "    rc = process.poll()\n",
    "    return rc"
   ]
  },
  {
   "cell_type": "markdown",
   "id": "87b61ab1-661e-450f-961d-ed6fb0fa082f",
   "metadata": {},
   "source": [
    "### Set up data and code paths\n",
    "- Download ATEK Data Store json file from [here](https://www.projectaria.com/datasets/adt/). "
   ]
  },
  {
   "cell_type": "code",
   "execution_count": null,
   "id": "cd0fed8b-301d-4df5-9510-699471de3962",
   "metadata": {},
   "outputs": [],
   "source": [
    "data_dir = os.path.join(os.path.expanduser(\"~\"), \"Documents\", \"atek_data\")\n",
    "atek_src_path = os.path.join(data_dir, \"ATEK\")\n",
    "viz_conf = OmegaConf.load(os.path.join(atek_src_path, \"atek\", \"configs\", \"obb_viz.yaml\"))\n",
    "atek_json_path = os.path.join(data_dir, \"AriaDigitalTwin_ATEK_download_urls.json\")\n",
    "\n",
    "# Download pre-trained weights from Omni3D repo\n",
    "if not os.path.exists(os.path.join(data_dir, \"cubercnn_DLA34_FPN.pth\")):\n",
    "    weights_url = \"https://dl.fbaipublicfiles.com/cubercnn/omni3d/cubercnn_DLA34_FPN.pth\"\n",
    "    download_command = f\"curl -o {data_dir}/cubercnn_DLA34_FPN.pth {weights_url}\"\n",
    "    subprocess.run(download_command, shell = True, check = True)"
   ]
  },
  {
   "cell_type": "markdown",
   "id": "054a7c68-a63b-4c1a-b720-9b1d28c3533a",
   "metadata": {},
   "source": [
    "### Step 1: Download preprocessed data from ATEK Data Store"
   ]
  },
  {
   "cell_type": "code",
   "execution_count": null,
   "id": "3fe01ea3-422e-4411-a555-66df9dcf89b6",
   "metadata": {},
   "outputs": [],
   "source": [
    "# Download from ATEK Data Store\n",
    "download_data_command = [\n",
    "    \"python3\", f\"{atek_src_path}/tools/atek_wds_data_downloader.py\",\n",
    "    \"--config-name\",\"cubercnn\",\n",
    "    \"--input-json-path\",f\"{atek_json_path}\",\n",
    "    \"--output-folder-path\",f\"{data_dir}/downloaded_local_wds/\",\n",
    "    \"--max-num-sequences\", \"5\",\n",
    "    \"--train-val-split-ratio\", \"0.8\", \n",
    "    \"--download-wds-to-local\"\n",
    "]\n",
    "\n",
    "# Uncomment this line to download data\n",
    "# return_code = run_command_and_display_output(download_data_command)"
   ]
  },
  {
   "cell_type": "markdown",
   "id": "2e269682-b1fe-4148-9e41-d3aa0b4951d5",
   "metadata": {},
   "source": [
    "## ATEK Training example with CubeRCNN\n",
    "User can call our `tools/train_cubercnn.py` script to perform training on ATEK WDS data downloaded from Data Store. We will run this on my local machine for a mini demonstration.  \n",
    "\n",
    "Core code snippets in the script (check out the script for full details): \n",
    "```\n",
    "model.train()\n",
    "tar_file_urls = load_yaml_and_extract_tar_list(train_list_yaml)\n",
    "data_loader = create_atek_dataloader_as_cubercnn(urls = tar_file_urls, ...)\n",
    "\n",
    "# Loop over cubercnn-format data samples\n",
    "for sample_data in data_loader:\n",
    "    # Training step\n",
    "    loss_dict = model(data)\n",
    "    losses = sum(loss_dict.values())\n",
    "    optimizer.zero_grad()\n",
    "    losses.backward()\n",
    "    optimizer.step()\n",
    "    ...\n",
    "```"
   ]
  },
  {
   "cell_type": "code",
   "execution_count": null,
   "id": "196b9219-7a94-4ac2-9e10-20ba40eacf3d",
   "metadata": {},
   "outputs": [],
   "source": [
    "# Example training command\n",
    "mini_training_command = [\n",
    "  f\"python\",f\"{atek_src_path}/tools/train_cubercnn.py\",\n",
    "  \"--config-file\",f\"{atek_src_path}/examples/data/cubercnn_train_config_mini_example.yaml\",\n",
    "  \"--num-gpus\", \"1\",\n",
    "  \"OUTPUT_DIR\", f\"{data_dir}/mini_test_1\",\n",
    "  \"TRAIN_LIST\",f\"{data_dir}/downloaded_local_wds/local_train_tars.yaml\",\n",
    "  \"TEST_LIST\", f\"{data_dir}/downloaded_local_wds/local_validation_tars.yaml\",\n",
    "  # \"TRAIN_LIST\",f\"{data_dir}/streamable_yamls/streamable_train_tars.yaml\",\n",
    "  # \"TEST_LIST\", f\"{data_dir}/streamable_yamls/streamable_validation_tars.yaml\",\n",
    "  \"CATEGORY_JSON\", f\"{atek_src_path}/data/atek_id_to_name.json\",\n",
    "  \"ID_MAP_JSON\", f\"{atek_src_path}/data/atek_name_to_id.json\",\n",
    "  \"MODEL.WEIGHTS_PRETRAIN\", f\"{data_dir}/cubercnn_DLA34_FPN.pth\"\n",
    "]\n",
    "return_code = run_command_and_display_output(mini_training_command)"
   ]
  },
  {
   "cell_type": "code",
   "execution_count": null,
   "id": "7dd72942-5454-4f8e-8544-32d594fdcb7f",
   "metadata": {},
   "outputs": [],
   "source": [
    "# [Optional] Inspect training progress using tensorboard\n",
    "tensorboard_command = [\"tensorboard\", f\"--logdir={data_dir}/mini_test_1\", \"--port\", \"6007\", \"--samples_per_plugin=images=1000\"]\n",
    "return_code = run_command_and_display_output(tensorboard_command)"
   ]
  }
 ],
 "metadata": {
  "fileHeader": "",
  "fileUid": "c1c7ca89-91a5-4458-ab04-b78ff4110706",
  "isAdHoc": false,
  "kernelspec": {
   "display_name": "Python 3 (ipykernel)",
   "language": "python",
   "name": "python3"
  },
  "language_info": {
   "codemirror_mode": {
    "name": "ipython",
    "version": 3
   },
   "file_extension": ".py",
   "mimetype": "text/x-python",
   "name": "python",
   "nbconvert_exporter": "python",
   "pygments_lexer": "ipython3",
   "version": "3.9.19"
  }
 },
 "nbformat": 4
}
