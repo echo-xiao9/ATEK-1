{
 "cells": [
  {
   "cell_type": "markdown",
   "id": "6043f900-8982-4805-9936-b69b8e117952",
   "metadata": {},
   "source": [
    "# Demo 3: Model training in ATEK"
   ]
  },
  {
   "cell_type": "code",
   "execution_count": null,
   "id": "10474d37-f0be-4f2d-ab0d-0de1ea8391b7",
   "metadata": {},
   "outputs": [],
   "source": [
    "import faulthandler\n",
    "\n",
    "import logging\n",
    "import os\n",
    "# Suppress warnings from WDS lib\n",
    "os.environ[\"WDS_PYTORCH_WEIGHTS_ONLY\"] = \"1\"\n",
    "\n",
    "from logging import StreamHandler\n",
    "import numpy as np\n",
    "from typing import Dict, List, Optional\n",
    "import torch\n",
    "import sys\n",
    "import subprocess\n",
    "from tqdm import tqdm\n",
    "\n",
    "from atek.viz.atek_visualizer import NativeAtekSampleVisualizer\n",
    "from atek.data_loaders.atek_wds_dataloader import (\n",
    "    create_native_atek_dataloader\n",
    ")\n",
    "from atek.util.file_io_utils import load_yaml_and_extract_tar_list\n",
    "from omegaconf import OmegaConf\n",
    "\n",
    "faulthandler.enable()\n",
    "\n",
    "# Configure logging to display the log messages in the notebook\n",
    "logging.basicConfig(\n",
    "    level=logging.INFO,\n",
    "    format='%(asctime)s - %(levelname)s - %(message)s',\n",
    "    handlers=[\n",
    "        logging.StreamHandler(sys.stdout)\n",
    "    ]\n",
    ")\n",
    "\n",
    "logger = logging.getLogger()\n",
    "\n",
    "def run_command_and_display_output(command):\n",
    "    # Start the process\n",
    "    process = subprocess.Popen(command, stdout=subprocess.PIPE, stderr=subprocess.STDOUT, text=True)\n",
    "\n",
    "    # Poll process.stdout to show stdout live\n",
    "    while True:\n",
    "        output = process.stdout.readline()\n",
    "        if output == '' and process.poll() is not None:\n",
    "            break\n",
    "        if output:\n",
    "            print(output.strip())\n",
    "    rc = process.poll()\n",
    "    return rc"
   ]
  },
  {
   "cell_type": "markdown",
   "id": "12a14cfc-f9de-4d7b-ab2f-2b3b8f9f58ab",
   "metadata": {},
   "source": [
    "### Set up data and code paths\n",
    "- Download ATEK Data Store json file from [here](https://www.projectaria.com/datasets/adt/). \n",
    "- Note: if you are seeing contaminated warning messages about `webdataset/autodecode.py: Future Warning`, this can be resolved by installing the main-branch of `webdataset` library: \n",
    "```\n",
    "mamba uninstall webdataset\n",
    "pip install git+https://github.com/webdataset/webdataset.git@69673059ab680195f6f6d2727077f69693c60af9\n",
    "```"
   ]
  },
  {
   "cell_type": "code",
   "execution_count": null,
   "id": "d8e4064a-b9cd-4612-a7a0-2beac423e154",
   "metadata": {},
   "outputs": [],
   "source": [
    "data_dir = os.path.join(os.path.expanduser(\"~\"), \"Documents\", \"atek_data\")\n",
    "atek_src_path = os.path.join(data_dir, \"ATEK\")\n",
    "viz_conf = OmegaConf.load(os.path.join(atek_src_path, \"atek\", \"configs\", \"obb_viz.yaml\"))\n",
    "atek_json_path = os.path.join(data_dir, \"AriaDigitalTwin_ATEK_download_urls.json\")\n",
    "\n",
    "# Download pre-trained weights from Omni3D repo\n",
    "if not os.path.exists(os.path.join(data_dir, \"cubercnn_DLA34_FPN.pth\")):\n",
    "    weights_url = \"https://dl.fbaipublicfiles.com/cubercnn/omni3d/cubercnn_DLA34_FPN.pth\"\n",
    "    download_command = f\"curl -o {data_dir}/cubercnn_DLA34_FPN.pth {weights_url}\"\n",
    "    subprocess.run(download_command, shell = True, check = True)"
   ]
  },
  {
   "cell_type": "markdown",
   "id": "55da180e-340f-4888-a0d0-0a20498c1c1c",
   "metadata": {},
   "source": [
    "### Step 1: Download preprocessed data from ATEK Data Store"
   ]
  },
  {
   "cell_type": "code",
   "execution_count": null,
   "id": "d42b9dd4-feb1-416b-8dea-38391327b592",
   "metadata": {},
   "outputs": [],
   "source": [
    "# Download from ATEK Data Store\n",
    "download_data_command = [\n",
    "    \"python3\", f\"{atek_src_path}/tools/atek_wds_data_downloader.py\",\n",
    "    \"--config-name\",\"cubercnn\",\n",
    "    \"--input-json-path\",f\"{atek_json_path}\",\n",
    "    \"--output-folder-path\",f\"{data_dir}/downloaded_local_wds/\",\n",
    "    \"--max-num-sequences\", \"5\",\n",
    "    \"--train-val-split-ratio\", \"0.8\", \n",
    "    \"--download-wds-to-local\"\n",
    "]\n",
    "\n",
    "# Uncomment this line to download data\n",
    "# return_code = run_command_and_display_output(download_data_command)"
   ]
  },
  {
   "cell_type": "markdown",
   "id": "59d7e9cf-9e4f-409b-83d7-a6dfea145d26",
   "metadata": {},
   "source": [
    "## ATEK Training example with CubeRCNN\n",
    "User can call our `tools/train_cubercnn.py` script to perform training on ATEK WDS data downloaded from Data Store. We will run this on my local machine for a mini demonstration.  \n",
    "\n",
    "Core code snippets in the script (check out the script for full details): \n",
    "```\n",
    "model.train()\n",
    "tar_file_urls = load_yaml_and_extract_tar_list(train_list_yaml)\n",
    "data_loader = create_atek_dataloader_as_cubercnn(urls = tar_file_urls, ...)\n",
    "\n",
    "# Loop over cubercnn-format data samples\n",
    "for sample_data in data_loader:\n",
    "    # Training step\n",
    "    loss_dict = model(data)\n",
    "    losses = sum(loss_dict.values())\n",
    "    optimizer.zero_grad()\n",
    "    losses.backward()\n",
    "    optimizer.step()\n",
    "    ...\n",
    "```"
   ]
  },
  {
   "cell_type": "code",
   "execution_count": null,
   "id": "2d6dc845-ae2e-42b4-a4e0-30323e14504a",
   "metadata": {},
   "outputs": [],
   "source": [
    "# Example training command\n",
    "mini_training_command = [\n",
    "  f\"python\",f\"{atek_src_path}/tools/train_cubercnn.py\",\n",
    "  \"--config-file\",f\"{atek_src_path}/examples/data/cubercnn_train_config_mini_example.yaml\",\n",
    "  \"--num-gpus\", \"1\",\n",
    "  \"OUTPUT_DIR\", f\"{data_dir}/mini_test_1\",\n",
    "  \"TRAIN_LIST\",f\"{data_dir}/downloaded_local_wds/local_train_tars.yaml\",\n",
    "  \"TEST_LIST\", f\"{data_dir}/downloaded_local_wds/local_validation_tars.yaml\",\n",
    "  # \"TRAIN_LIST\",f\"{data_dir}/streamable_yamls/streamable_train_tars.yaml\",\n",
    "  # \"TEST_LIST\", f\"{data_dir}/streamable_yamls/streamable_validation_tars.yaml\",\n",
    "  \"CATEGORY_JSON\", f\"{atek_src_path}/data/atek_id_to_name.json\",\n",
    "  \"ID_MAP_JSON\", f\"{atek_src_path}/data/atek_name_to_id.json\",\n",
    "  \"MODEL.WEIGHTS_PRETRAIN\", f\"{data_dir}/cubercnn_DLA34_FPN.pth\"\n",
    "]\n",
    "return_code = run_command_and_display_output(mini_training_command)"
   ]
  },
  {
   "cell_type": "code",
   "execution_count": null,
   "id": "00833d14-c3fa-4d8d-87f2-2f1bdbfb853d",
   "metadata": {},
   "outputs": [],
   "source": [
    "# [Optional] Inspect training progress using tensorboard\n",
    "tensorboard_command = [\"tensorboard\", f\"--logdir={data_dir}/mini_test_1\", \"--port\", \"6007\", \"--samples_per_plugin=images=1000\"]\n",
    "return_code = run_command_and_display_output(tensorboard_command)"
   ]
  }
 ],
 "metadata": {
  "fileHeader": "",
  "fileUid": "c1c7ca89-91a5-4458-ab04-b78ff4110706",
  "isAdHoc": false,
  "kernelspec": {
   "display_name": "Python 3 (ipykernel)",
   "language": "python",
   "name": "python3"
  },
  "language_info": {
   "codemirror_mode": {
    "name": "ipython",
    "version": 3
   },
   "file_extension": ".py",
   "mimetype": "text/x-python",
   "name": "python",
   "nbconvert_exporter": "python",
   "pygments_lexer": "ipython3",
   "version": "3.9.19"
  }
 },
 "nbformat": 4
}
