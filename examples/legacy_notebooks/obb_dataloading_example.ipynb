{
 "cells": [
  {
   "cell_type": "markdown",
   "id": "7cdc91eb-ad10-4d48-858f-5ee56aedfebd",
   "metadata": {},
   "source": [
    "# Data loading example"
   ]
  },
  {
   "cell_type": "code",
   "execution_count": 12,
   "id": "903eb159-f4c3-49d5-8cae-51da1e79a110",
   "metadata": {},
   "outputs": [],
   "source": [
    "from atek.data_loaders.atek_wds_dataloader import load_atek_wds_dataset \n",
    "import yaml\n",
    "import os\n",
    "import webdataset as wds\n",
    "import numpy as np\n",
    "TRAJECTORY_COLOR = [30, 100, 30]\n",
    "GT_COLOR = [30, 200, 30]\n",
    "PRED_COLOR = [200, 30, 30]\n",
    "\n",
    "tar_dir = \"/home/louy/Calibration_data_link/Atek/2024_05_28_CubeRcnnTest/wds_output/test_cubercnn_adt/\"\n",
    "\n",
    "tars = [\n",
    "    os.path.join(tar_dir, f\"shards-000{i}.tar\") for i in range(7)\n",
    "]"
   ]
  },
  {
   "cell_type": "markdown",
   "id": "ad7ae8e0-9f81-429e-aa9f-b24551be3b4c",
   "metadata": {},
   "source": [
    "## Default native loading"
   ]
  },
  {
   "cell_type": "code",
   "execution_count": 13,
   "id": "87b86bf5-82d5-4f73-b8c9-15e79d3de61c",
   "metadata": {},
   "outputs": [
    {
     "name": "stdout",
     "output_type": "stream",
     "text": [
      "__key__ has type of <class 'str'>\n",
      "__url__ has type of <class 'str'>\n",
      "gtdata has type of <class 'dict'>\n",
      "mfcd#camera-rgb+t_device_camera has type of <class 'torch.Tensor'>\n",
      "mfcd#camera-rgb+camera_label has type of <class 'str'>\n",
      "mfcd#camera-rgb+camera_model_name has type of <class 'str'>\n",
      "mfcd#camera-rgb+capture_timestamps_ns has type of <class 'torch.Tensor'>\n",
      "mfcd#camera-rgb+exposure_durations_s has type of <class 'torch.Tensor'>\n",
      "mfcd#camera-rgb+frame_ids has type of <class 'torch.Tensor'>\n",
      "mfcd#camera-rgb+gains has type of <class 'torch.Tensor'>\n",
      "mfcd#camera-rgb+origin_camera_label has type of <class 'str'>\n",
      "mfcd#camera-rgb+projection_params has type of <class 'torch.Tensor'>\n",
      "mtd#ts_world_device has type of <class 'torch.Tensor'>\n",
      "mtd#capture_timestamps_ns has type of <class 'torch.Tensor'>\n",
      "mtd#gravity_in_world has type of <class 'torch.Tensor'>\n",
      "mfcd#camera-rgb+images has type of <class 'torch.Tensor'>\n"
     ]
    }
   ],
   "source": [
    "wds_dataset = load_atek_wds_dataset(urls = tars)\n",
    "\n",
    "# Print dict keys\n",
    "for obj in wds_dataset:\n",
    "    for key, value in obj.items():\n",
    "        print(f\"{key} has type of {type(value)}\")\n",
    "    break"
   ]
  },
  {
   "cell_type": "code",
   "execution_count": 9,
   "id": "a41dfd2a-7246-4ac9-a3e4-41a6a1c84b8e",
   "metadata": {},
   "outputs": [
    {
     "name": "stdout",
     "output_type": "stream",
     "text": [
      "RGB image tensor shape:  torch.Size([1, 3, 1408, 1408])\n",
      "tensor([610.9410, 610.9410, 703.5000, 703.5000])\n"
     ]
    }
   ],
   "source": [
    "print(\"RGB image tensor shape: \", obj['mfcd#camera-rgb+images'].shape)\n",
    "print(obj['mfcd#camera-rgb+projection_params'])"
   ]
  },
  {
   "cell_type": "markdown",
   "id": "a9284dd8-4332-4200-a6c4-daeb40aa72c6",
   "metadata": {},
   "source": [
    "## Visualization for native data"
   ]
  },
  {
   "cell_type": "code",
   "execution_count": 15,
   "id": "be7fe9ab-2056-422e-8bb1-b9e77b7b7145",
   "metadata": {},
   "outputs": [
    {
     "name": "stderr",
     "output_type": "stream",
     "text": [
      "[2024-06-28T19:34:48Z INFO  re_ws_comms::server] Shutting down Rerun server on ws://localhost:8877\n",
      "[2024-06-28T19:34:48Z INFO  re_web_viewer_server] Shutting down web server on http://localhost:38111\n",
      "[2024-06-28T19:34:48Z INFO  winit::platform_impl::platform::x11::window] Guessed window scale factor: 1.1041666666666667\n",
      "[2024-06-28T19:34:48Z INFO  tracing::span] perform;\n",
      "[2024-06-28T19:34:48Z INFO  zbus::handshake] write_command; command=Auth(Some(External), Some([49, 48, 48, 48]))\n",
      "[2024-06-28T19:34:48Z INFO  tracing::span] read_command;\n",
      "[2024-06-28T19:34:48Z INFO  zbus::handshake] write_command; command=NegotiateUnixFD\n",
      "[2024-06-28T19:34:48Z INFO  tracing::span] read_command;\n",
      "[2024-06-28T19:34:48Z INFO  zbus::handshake] write_command; command=Begin\n",
      "[2024-06-28T19:34:48Z INFO  tracing::span] socket reader;\n",
      "[2024-06-28T19:34:48Z INFO  tracing::span] perform;\n",
      "[2024-06-28T19:34:48Z INFO  zbus::handshake] write_command; command=Auth(Some(External), Some([49, 48, 48, 48]))\n",
      "[2024-06-28T19:34:48Z INFO  tracing::span] read_command;\n",
      "[2024-06-28T19:34:48Z INFO  zbus::handshake] write_command; command=NegotiateUnixFD\n",
      "[2024-06-28T19:34:48Z INFO  tracing::span] read_command;\n",
      "[2024-06-28T19:34:48Z INFO  zbus::handshake] write_command; command=Begin\n",
      "[2024-06-28T19:34:48Z INFO  tracing::span] socket reader;\n",
      "[2024-06-28T19:34:48Z INFO  zbus::connection] {}; obj_server_task_name=\"ObjectServer task\"\n",
      "[2024-06-28T19:34:48Z INFO  zbus::object_server] dispatch_message; msg=Msg { type: MethodCall, sender: UniqueName(Str(Borrowed(\":1.2\"))), path: ObjectPath(\"/org/a11y/atspi/accessible/root\"), iface: InterfaceName(Str(Borrowed(\"org.freedesktop.DBus.Properties\"))), member: MemberName(Str(Borrowed(\"Set\"))), body: Signature(\"ssv\") }\n",
      "[2024-06-28T19:34:48Z INFO  zbus::object_server] dispatch_method_call; msg=Msg { type: MethodCall, sender: UniqueName(Str(Borrowed(\":1.2\"))), path: ObjectPath(\"/org/a11y/atspi/accessible/root\"), iface: InterfaceName(Str(Borrowed(\"org.freedesktop.DBus.Properties\"))), member: MemberName(Str(Borrowed(\"Set\"))), body: Signature(\"ssv\") }\n",
      "[2024-06-28T19:34:48Z INFO  zbus::object_server] dispatch_method_call_try; msg=Msg { type: MethodCall, sender: UniqueName(Str(Borrowed(\":1.2\"))), path: ObjectPath(\"/org/a11y/atspi/accessible/root\"), iface: InterfaceName(Str(Borrowed(\"org.freedesktop.DBus.Properties\"))), member: MemberName(Str(Borrowed(\"Set\"))), body: Signature(\"ssv\") }\n",
      "[2024-06-28T19:34:49Z INFO  re_ws_comms::server] Listening for WebSocket traffic on ws://localhost:8877. Connect with a Rerun Web Viewer.\n",
      "[2024-06-28T19:34:49Z INFO  re_web_viewer_server] Started web server on http://localhost:43021\n",
      "[2024-06-28T19:34:49Z INFO  re_sdk::web_viewer] Web server is running - view it at http://localhost:43021?url=ws://localhost:8877\n"
     ]
    }
   ],
   "source": [
    "import rerun as rr\n",
    "from projectaria_tools.core.sophus import SE3\n",
    "from projectaria_tools.utils.rerun_helpers import ToTransform3D\n",
    "\n",
    "# Data visualization\n",
    "rr.init(\"ATEK Data Loader Viewer\", spawn=True)\n",
    "rr.serve(web_port=8888, ws_port=8877)"
   ]
  },
  {
   "cell_type": "code",
   "execution_count": 17,
   "id": "a1d6afb7-84ec-4f7c-9ccf-919e9126a6e4",
   "metadata": {},
   "outputs": [
    {
     "ename": "TypeError",
     "evalue": "string indices must be integers",
     "output_type": "error",
     "traceback": [
      "\u001b[0;31m---------------------------------------------------------------------------\u001b[0m",
      "\u001b[0;31mTypeError\u001b[0m                                 Traceback (most recent call last)",
      "Cell \u001b[0;32mIn[17], line 101\u001b[0m\n\u001b[1;32m     97\u001b[0m     i_frame \u001b[38;5;241m+\u001b[39m\u001b[38;5;241m=\u001b[39m \u001b[38;5;241m1\u001b[39m\n\u001b[1;32m    100\u001b[0m \u001b[38;5;28;01mfor\u001b[39;00m data_dict \u001b[38;5;129;01min\u001b[39;00m wds_dataset:\n\u001b[0;32m--> 101\u001b[0m     \u001b[43mlog_pred_3d_2d_bbox\u001b[49m\u001b[43m(\u001b[49m\u001b[43mdata_dict\u001b[49m\u001b[43m)\u001b[49m\n",
      "Cell \u001b[0;32mIn[17], line 6\u001b[0m, in \u001b[0;36mlog_pred_3d_2d_bbox\u001b[0;34m(atek_wds_dict_all)\u001b[0m\n\u001b[1;32m      4\u001b[0m i_frame \u001b[38;5;241m=\u001b[39m \u001b[38;5;241m0\u001b[39m\n\u001b[1;32m      5\u001b[0m \u001b[38;5;28;01mfor\u001b[39;00m atek_wds_dict \u001b[38;5;129;01min\u001b[39;00m atek_wds_dict_all:\n\u001b[0;32m----> 6\u001b[0m     T_world_device \u001b[38;5;241m=\u001b[39m SE3\u001b[38;5;241m.\u001b[39mfrom_matrix3x4(\u001b[43matek_wds_dict\u001b[49m\u001b[43m[\u001b[49m\u001b[38;5;124;43m\"\u001b[39;49m\u001b[38;5;124;43mmtd#ts_world_device\u001b[39;49m\u001b[38;5;124;43m\"\u001b[39;49m\u001b[43m]\u001b[49m[i_frame, :, :])\n\u001b[1;32m      7\u001b[0m     T_device_cam \u001b[38;5;241m=\u001b[39m SE3\u001b[38;5;241m.\u001b[39mfrom_matrix3x4(atek_wds_dict[\u001b[38;5;124m\"\u001b[39m\u001b[38;5;124mmfcd#camera-rgb+t_device_camera\u001b[39m\u001b[38;5;124m\"\u001b[39m])\n\u001b[1;32m      8\u001b[0m     \u001b[38;5;66;03m# HWC -> CWH\u001b[39;00m\n",
      "\u001b[0;31mTypeError\u001b[0m: string indices must be integers"
     ]
    }
   ],
   "source": [
    "from projectaria_tools.utils.rerun_helpers import ToTransform3D\n",
    "\n",
    "def log_pred_3d_2d_bbox(atek_wds_dict_all):\n",
    "    i_frame = 0\n",
    "    for atek_wds_dict in atek_wds_dict_all:\n",
    "        T_world_device = SE3.from_matrix3x4(atek_wds_dict[\"mtd#ts_world_device\"][i_frame, :, :])\n",
    "        T_device_cam = SE3.from_matrix3x4(atek_wds_dict[\"mfcd#camera-rgb+t_device_camera\"])\n",
    "        # HWC -> CWH\n",
    "        image = atek_wds_dict[\"mfcd#camera-rgb+images\"][i_frame].detach().cpu().permute(1, 2, 0).numpy()\n",
    "\n",
    "        # log device and camera locations\n",
    "        rr.log(\n",
    "            f\"world\", \n",
    "            ToTransform3D(SE3(), False),\n",
    "        )\n",
    "        \n",
    "        rr.log(\n",
    "            f\"world/device\", \n",
    "            ToTransform3D(T_world_device, False),\n",
    "        )\n",
    "        \n",
    "        rr.log(\n",
    "            f\"world/camera-rgb\",\n",
    "            ToTransform3D(T_world_device @ T_device_cam, False),\n",
    "        )\n",
    "        \n",
    "        \n",
    "\n",
    "        # log images\n",
    "        rr.log(\n",
    "            f\"image\",\n",
    "            rr.Image(image),\n",
    "        )\n",
    "\n",
    "        # For testing only\n",
    "        img_timestamp = atek_wds_dict[\"mfcd#camera-rgb+capture_timestamps_ns\"][i_frame].item()\n",
    "        rr.set_time_seconds(\"frame_time_ns\", img_timestamp)\n",
    "        pose_timestamp = atek_wds_dict[\"mtd#capture_timestamps_ns\"][i_frame].item()\n",
    "        # gt_timestamp = int(list(atek_wds_dict[\"gtdata\"].keys())[i_frame])\n",
    "        print(f\"img_time: {img_timestamp}, pose_time: {pose_timestamp}, difference in us: {(img_timestamp - pose_timestamp)/1e3}\")\n",
    "\n",
    "        # Log 3d bbox\n",
    "        bb3ds_centers_infer = []\n",
    "        bb3ds_quats_xyzw_infer = []\n",
    "        bb3ds_sizes_infer = []\n",
    "        labels_infer = []\n",
    "        objs = list(atek_wds_dict[\"gtdata\"][\"obb3_gt\"][\"bbox3d_all_instances\"].values())\n",
    "        for obj_gt_dict in objs:\n",
    "            # Only plot chair\n",
    "            if obj_gt_dict[\"category_id\"] not in [1, 4]:\n",
    "                continue\n",
    "            T_world_obj = SE3.from_matrix3x4(obj_gt_dict[\"T_World_Object\"])\n",
    "            bb3ds_centers_infer.append(T_world_obj.translation()[0])\n",
    "            wxyz = T_world_obj.rotation().to_quat()[0]\n",
    "            bb3ds_quats_xyzw_infer.append([wxyz[3], wxyz[0], wxyz[1], wxyz[2]])\n",
    "            bb3ds_sizes_infer.append(np.array(obj_gt_dict[\"object_dimensions\"]))\n",
    "            labels_infer.append(obj_gt_dict[\"category_name\"])            \n",
    "        \n",
    "        # log 3D bounding boxes\n",
    "        rr.log(\n",
    "            f\"world/bb3d_infer\",\n",
    "            rr.Boxes3D(\n",
    "                sizes=bb3ds_sizes_infer,\n",
    "                centers=bb3ds_centers_infer,\n",
    "                rotations=bb3ds_quats_xyzw_infer,\n",
    "                radii=0.01,\n",
    "                colors=PRED_COLOR,\n",
    "                labels=labels_infer,\n",
    "            ),\n",
    "        )\n",
    "\n",
    "        # Log 2d bbox\n",
    "        bb2ds_all = []\n",
    "        for obj_2d_dict in atek_wds_dict[\"gtdata\"][\"obb2_gt\"][\"camera-rgb\"].values():\n",
    "            # Only plot coffee table\n",
    "            if obj_2d_dict[\"category_id\"] not in [1, 4]:\n",
    "                continue\n",
    "            bb2d = obj_2d_dict[\"box_range\"]\n",
    "            bb2ds_XYXY = np.array([bb2d[0], bb2d[2], bb2d[1], bb2d[3]])\n",
    "            bb2ds_all.append(bb2ds_XYXY)\n",
    "        \n",
    "        if len(bb2ds_all) == 0:\n",
    "            print(f\" ---- -- debug: no 2d bboxes found for frame {i_frame}\")\n",
    "        \n",
    "        rr.log(\n",
    "            f\"image/bb2d_gt\",\n",
    "            rr.Boxes2D(\n",
    "                array=bb2ds_all,\n",
    "                array_format=rr.Box2DFormat.XYXY,\n",
    "                radii=1,\n",
    "                colors=GT_COLOR,\n",
    "                # labels=labels_infer,\n",
    "            ),\n",
    "        )\n",
    "\n",
    "\n",
    "    i_frame += 1\n",
    "    \n",
    "\n",
    "for data_dict in wds_dataset:\n",
    "    log_pred_3d_2d_bbox(data_dict)"
   ]
  },
  {
   "cell_type": "markdown",
   "id": "9401a6bd-b126-4684-aecb-a41556bdae0e",
   "metadata": {},
   "source": [
    "## Load as CubeRCNN data example"
   ]
  },
  {
   "cell_type": "code",
   "execution_count": null,
   "id": "d4c33915-a790-4503-a267-404cd19650cf",
   "metadata": {},
   "outputs": [],
   "source": [
    "import torch\n",
    "\n",
    "from detectron2.data import detection_utils\n",
    "from detectron2.structures import Boxes, BoxMode, Instances\n",
    "\n",
    "from atek.data_loaders.cubercnn_model_adaptor import load_atek_wds_dataset_as_cubercnn\n",
    "from tqdm import tqdm\n",
    "\n",
    "dataset = load_atek_wds_dataset_as_cubercnn(tars)\n",
    "\n",
    "sample = next(iter(dataset))\n",
    "\n",
    "print(sample.keys())\n",
    "print(\"Image shape: \", sample['image'].shape)\n",
    "print(\"K: \", sample['K'])"
   ]
  }
 ],
 "metadata": {
  "fileHeader": "",
  "fileUid": "a67d4f37-7a18-4bf6-be6a-25ae9a5f2932",
  "isAdHoc": false,
  "kernelspec": {
   "display_name": "Python 3 (ipykernel)",
   "language": "python",
   "name": "python3"
  },
  "language_info": {
   "codemirror_mode": {
    "name": "ipython",
    "version": 3
   },
   "file_extension": ".py",
   "mimetype": "text/x-python",
   "name": "python",
   "nbconvert_exporter": "python",
   "pygments_lexer": "ipython3",
   "version": "3.9.18"
  }
 },
 "nbformat": 4,
 "nbformat_minor": 5
}
