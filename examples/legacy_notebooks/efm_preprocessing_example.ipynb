{
 "cells": [
  {
   "cell_type": "markdown",
   "id": "80a35ec7",
   "metadata": {},
   "source": [
    "# ATEK Data Proprocessing Example (EFM model)"
   ]
  },
  {
   "cell_type": "markdown",
   "id": "a323b5ff",
   "metadata": {},
   "source": [
    "### 1. Load the example adt data"
   ]
  },
  {
   "cell_type": "code",
   "execution_count": 1,
   "id": "e26d2e0e",
   "metadata": {
    "tags": []
   },
   "outputs": [],
   "source": [
    "import os\n",
    "\n",
    "from atek.data_preprocess.sample_builders.efm_sample_builder import EfmSampleBuilder\n",
    "from atek.data_preprocess.wds_writer import AtekWdsWriter\n",
    "\n",
    "from omegaconf import OmegaConf\n",
    "\n",
    "import logging\n",
    "from logging import StreamHandler\n",
    "\n",
    "handler = StreamHandler()\n",
    "formatter = logging.Formatter('%(asctime)s - %(levelname)s - %(message)s')\n",
    "handler.setFormatter(formatter)\n",
    "\n",
    "logger = logging.getLogger()\n",
    "logger.addHandler(handler)\n",
    "\n",
    "example_adt_data_dir = \"/home/louy/Calibration_data_link/Atek/2024_05_07_EfmDataTest/adt_data_example/Apartment_release_clean_seq134/1WM103600M1292_optitrack_release_clean_seq134\"\n",
    "example_ase_data_dir = \"/home/louy/Calibration_data_link/Atek/2024_05_07_EfmDataTest/ase_data_example/euston_simulation_100077_device0\"\n",
    "config_path = os.path.join(\"/home/louy/Calibration_data_link/Atek/2024_05_07_EfmDataTest/efm_euston_medium_conf_for_atek.yaml\")\n",
    "\n",
    "conf = OmegaConf.load(config_path)"
   ]
  },
  {
   "cell_type": "markdown",
   "id": "29962863",
   "metadata": {},
   "source": [
    "### 2. Sample builder example"
   ]
  },
  {
   "cell_type": "code",
   "execution_count": 8,
   "id": "018ad09e",
   "metadata": {
    "tags": []
   },
   "outputs": [
    {
     "name": "stderr",
     "output_type": "stream",
     "text": [
      "\u001b[38;2;000;128;000m[MultiRecordFileReader][DEBUG]: Opened file '/home/louy/Calibration_data_link/Atek/2024_05_07_EfmDataTest/ase_data_example/euston_simulation_100077_device0/video.vrs' and assigned to reader #0\u001b[0m\n",
      "\u001b[0m2024-05-21 16:57:38,193 - INFO - loading global semi-dense points from /home/louy/Calibration_data_link/Atek/2024_05_07_EfmDataTest/ase_data_example/euston_simulation_100077_device0/maps/maps_v1/globalcloud_GT.csv.gz\n",
      "\u001b[38;2;000;000;255m[VrsDataProvider][INFO]: streamId 214-1/camera-rgb activated\u001b[0m\n",
      "\u001b[0m\u001b[38;2;000;000;255m[VrsDataProvider][INFO]: streamId 1201-1/camera-slam-left activated\u001b[0m\n",
      "\u001b[0m\u001b[38;2;000;000;255m[VrsDataProvider][INFO]: streamId 1201-2/camera-slam-right activated\u001b[0m\n",
      "\u001b[0m\u001b[38;2;000;000;255m[VrsDataProvider][INFO]: streamId 1202-1/imu-right activated\u001b[0m\n",
      "\u001b[0m\u001b[38;2;000;000;255m[VrsDataProvider][INFO]: streamId 1202-2/imu-left activated\u001b[0m\n",
      "\u001b[0m\u001b[38;2;000;128;000m[MultiRecordFileReader][DEBUG]: Opened file '/home/louy/Calibration_data_link/Atek/2024_05_07_EfmDataTest/ase_data_example/euston_simulation_100077_device0/video.vrs' and assigned to reader #0\u001b[0m\n",
      "\u001b[0m\u001b[38;2;000;000;255m[VrsDataProvider][INFO]: streamId 214-1/camera-rgb activated\u001b[0m\n",
      "\u001b[0m\u001b[38;2;000;000;255m[VrsDataProvider][INFO]: streamId 1201-1/camera-slam-left activated\u001b[0m\n",
      "\u001b[0m\u001b[38;2;000;000;255m[VrsDataProvider][INFO]: streamId 1201-2/camera-slam-right activated\u001b[0m\n",
      "\u001b[0m\u001b[38;2;000;000;255m[VrsDataProvider][INFO]: streamId 1202-1/imu-right activated\u001b[0m\n",
      "\u001b[0m\u001b[38;2;000;000;255m[VrsDataProvider][INFO]: streamId 1202-2/imu-left activated\u001b[0m\n",
      "\u001b[0m\u001b[38;2;000;128;000m[MultiRecordFileReader][DEBUG]: Opened file '/home/louy/Calibration_data_link/Atek/2024_05_07_EfmDataTest/ase_data_example/euston_simulation_100077_device0/video.vrs' and assigned to reader #0\u001b[0m\n",
      "\u001b[0m\u001b[38;2;000;000;255m[VrsDataProvider][INFO]: streamId 214-1/camera-rgb activated\u001b[0m\n",
      "\u001b[0m\u001b[38;2;000;000;255m[VrsDataProvider][INFO]: streamId 1201-1/camera-slam-left activated\u001b[0m\n",
      "\u001b[0m\u001b[38;2;000;000;255m[VrsDataProvider][INFO]: streamId 1201-2/camera-slam-right activated\u001b[0m\n",
      "\u001b[0m\u001b[38;2;000;000;255m[VrsDataProvider][INFO]: streamId 1202-1/imu-right activated\u001b[0m\n",
      "\u001b[0m\u001b[38;2;000;000;255m[VrsDataProvider][INFO]: streamId 1202-2/imu-left activated\u001b[0m\n",
      "\u001b[0m2024-05-21 16:57:40,617 - INFO - loading semidense observations from /home/louy/Calibration_data_link/Atek/2024_05_07_EfmDataTest/ase_data_example/euston_simulation_100077_device0/maps/maps_v1/observations.csv.gz\n",
      "2024-05-21 16:57:42,656 - INFO - loading semidense points takes 2.4240386486053467 seconds, observations takes 2.039501190185547 seconds\n",
      "\u001b[38;2;000;000;255m[AriaDigitalTwinDataProvider][INFO]: skip loading VRS data because the data path is empty\u001b[0m\n",
      "\u001b[0m\u001b[38;2;255;165;000m[AriaDigitalTwinDataProvider][WARNING]: No metadata file provided to data provider, setting the dataset version to Unknown.\u001b[0m\n",
      "\u001b[0m\u001b[38;2;255;165;000m[AriaDigitalTwinDataProvider][WARNING]: Unknown dataset version, we recommend loading with the metadata file to validate the dataset version is compatible with this version of the data provider.\u001b[0m\n",
      "\u001b[0m\u001b[38;2;000;000;255m[AriaDigitalTwinDataProvider][INFO]: loading instance info from json file /home/louy/Calibration_data_link/Atek/2024_05_07_EfmDataTest/ase_data_example/euston_simulation_100077_device0/instances.json\u001b[0m\n",
      "\u001b[0m\u001b[38;2;255;165;000m[AriaDigitalTwinDataProvider][WARNING]: Unknown motion type other for instance id 9\u001b[0m\n",
      "\u001b[0m\u001b[38;2;255;165;000m[AriaDigitalTwinDataProvider][WARNING]: Unknown motion type other for instance id 14\u001b[0m\n",
      "\u001b[0m\u001b[38;2;255;165;000m[AriaDigitalTwinDataProvider][WARNING]: Unknown motion type other for instance id 28\u001b[0m\n",
      "\u001b[0m\u001b[38;2;255;165;000m[AriaDigitalTwinDataProvider][WARNING]: Unknown motion type other for instance id 57\u001b[0m\n",
      "\u001b[0m\u001b[38;2;255;165;000m[AriaDigitalTwinDataProvider][WARNING]: Unknown motion type other for instance id 22\u001b[0m\n",
      "\u001b[0m\u001b[38;2;255;165;000m[AriaDigitalTwinDataProvider][WARNING]: Unknown motion type other for instance id 11\u001b[0m\n",
      "\u001b[0m\u001b[38;2;255;165;000m[AriaDigitalTwinDataProvider][WARNING]: Unknown motion type other for instance id 24\u001b[0m\n",
      "\u001b[0m\u001b[38;2;255;165;000m[AriaDigitalTwinDataProvider][WARNING]: Unknown motion type other for instance id 10\u001b[0m\n",
      "\u001b[0m\u001b[38;2;255;165;000m[AriaDigitalTwinDataProvider][WARNING]: Unknown motion type other for instance id 12\u001b[0m\n",
      "\u001b[0m\u001b[38;2;255;165;000m[AriaDigitalTwinDataProvider][WARNING]: Unknown motion type other for instance id 20\u001b[0m\n",
      "\u001b[0m\u001b[38;2;255;165;000m[AriaDigitalTwinDataProvider][WARNING]: Unknown motion type other for instance id 58\u001b[0m\n",
      "\u001b[0m\u001b[38;2;255;165;000m[AriaDigitalTwinDataProvider][WARNING]: Unknown motion type other for instance id 15\u001b[0m\n",
      "\u001b[0m\u001b[38;2;255;165;000m[AriaDigitalTwinDataProvider][WARNING]: Unknown motion type other for instance id 19\u001b[0m\n",
      "\u001b[0m\u001b[38;2;255;165;000m[AriaDigitalTwinDataProvider][WARNING]: Unknown motion type other for instance id 26\u001b[0m\n",
      "\u001b[0m\u001b[38;2;255;165;000m[AriaDigitalTwinDataProvider][WARNING]: Unknown motion type other for instance id 13\u001b[0m\n",
      "\u001b[0m\u001b[38;2;255;165;000m[AriaDigitalTwinDataProvider][WARNING]: Unknown motion type other for instance id 17\u001b[0m\n",
      "\u001b[0m\u001b[38;2;255;165;000m[AriaDigitalTwinDataProvider][WARNING]: Unknown motion type other for instance id 27\u001b[0m\n",
      "\u001b[0m\u001b[38;2;255;165;000m[AriaDigitalTwinDataProvider][WARNING]: Unknown motion type other for instance id 55\u001b[0m\n",
      "\u001b[0m\u001b[38;2;255;165;000m[AriaDigitalTwinDataProvider][WARNING]: Unknown motion type other for instance id 16\u001b[0m\n",
      "\u001b[0m\u001b[38;2;255;165;000m[AriaDigitalTwinDataProvider][WARNING]: Unknown motion type other for instance id 23\u001b[0m\n",
      "\u001b[0m\u001b[38;2;255;165;000m[AriaDigitalTwinDataProvider][WARNING]: Unknown motion type other for instance id 25\u001b[0m\n",
      "\u001b[0m\u001b[38;2;255;165;000m[AriaDigitalTwinDataProvider][WARNING]: Unknown motion type other for instance id 39\u001b[0m\n",
      "\u001b[0m\u001b[38;2;255;165;000m[AriaDigitalTwinDataProvider][WARNING]: Unknown motion type other for instance id 18\u001b[0m\n",
      "\u001b[0m\u001b[38;2;000;000;255m[AriaDigitalTwinDataProvider][INFO]: skip loading fileAriaTraj because the data path is empty\u001b[0m\n",
      "\u001b[0m\u001b[38;2;000;000;255m[AriaDigitalTwinDataProvider][INFO]: skip loading 2dbboxes because the data path is empty\u001b[0m\n",
      "\u001b[0m\u001b[38;2;000;000;255m[AriaDigitalTwinDataProvider][INFO]: skip loading fileSegmentation because the data path is empty\u001b[0m\n",
      "\u001b[0m\u001b[38;2;000;000;255m[AriaDigitalTwinDataProvider][INFO]: skip loading fileDepth because the data path is empty\u001b[0m\n",
      "\u001b[0m\u001b[38;2;000;000;255m[AriaDigitalTwinDataProvider][INFO]: skip loading fileSynthetic because the data path is empty\u001b[0m\n",
      "\u001b[0m\u001b[38;2;000;000;255m[AriaDigitalTwinDataProvider][INFO]: skip loading skeletonMetaDataFilePath because the data path is empty\u001b[0m\n",
      "\u001b[0m\u001b[38;2;000;000;255m[AriaDigitalTwinDataProvider][INFO]: skip loading skeletonsFilePaths because the data path is empty\u001b[0m\n",
      "\u001b[0m\u001b[38;2;000;000;255m[AriaDigitalTwinDataProvider][INFO]: skip loading eyeGazesFilePath because the data path is empty\u001b[0m\n",
      "\u001b[0m"
     ]
    },
    {
     "data": {
      "text/plain": [
       "'\\nsample_builder = EfmSampleBuilder(\\n    conf=conf.processors,\\n    vrs_file=os.path.join(example_adt_data_dir, \"video.vrs\"),\\n    mps_files={\\n        \"mps_closedloop_traj_file\": os.path.join(\\n            example_adt_data_dir, \"aria_trajectory.csv\"),\\n        \"mps_semidense_points_file\": os.path.join(example_adt_data_dir, \"mps\", \"slam\", \"semidense_points.csv.gz\"),\\n        \"mps_semidense_observations_file\": os.path.join(example_adt_data_dir, \"mps\", \"slam\", \"semidense_observations.csv.gz\"),\\n    },\\n    gt_files={\\n        \"obb3_file\": os.path.join(example_adt_data_dir, \"3d_bounding_box.csv\"),\\n        \"obb3_traj_file\": os.path.join(\\n            example_adt_data_dir, \"scene_objects.csv\"\\n        ),\\n        \"instance_json_file\": os.path.join(\\n            example_adt_data_dir, \"instances.json\"\\n        ),\\n    },\\n    depth_vrs_file = os.path.join(example_adt_data_dir, \"depth_images.vrs\")\\n)\\n'"
      ]
     },
     "execution_count": 8,
     "metadata": {},
     "output_type": "execute_result"
    }
   ],
   "source": [
    "sample_builder = EfmSampleBuilder(\n",
    "    conf=conf.processors,\n",
    "    vrs_file=os.path.join(example_ase_data_dir, \"video.vrs\"),\n",
    "    mps_files={\n",
    "        \"mps_closedloop_traj_file\": os.path.join(\n",
    "            example_ase_data_dir, \"aria_trajectory.csv\"),\n",
    "        \"mps_semidense_points_file\": os.path.join(example_ase_data_dir, \"maps\", \"maps_v1\", \"globalcloud_GT.csv.gz\"),\n",
    "        \"mps_semidense_observations_file\": os.path.join(example_ase_data_dir, \"maps\", \"maps_v1\", \"observations.csv.gz\"),\n",
    "    },\n",
    "    gt_files={\n",
    "        \"obb3_file\": os.path.join(example_ase_data_dir, \"3d_bounding_box.csv\"),\n",
    "        \"obb3_traj_file\": os.path.join(\n",
    "            example_ase_data_dir, \"scene_objects.csv\"\n",
    "        ),\n",
    "        \"instance_json_file\": os.path.join(\n",
    "            example_ase_data_dir, \"instances.json\"\n",
    "        ),\n",
    "    },\n",
    "    depth_vrs_file = os.path.join(example_ase_data_dir, \"depth_images.vrs\")\n",
    ")\n",
    "\n",
    "\"\"\"\n",
    "sample_builder = EfmSampleBuilder(\n",
    "    conf=conf.processors,\n",
    "    vrs_file=os.path.join(example_adt_data_dir, \"video.vrs\"),\n",
    "    mps_files={\n",
    "        \"mps_closedloop_traj_file\": os.path.join(\n",
    "            example_adt_data_dir, \"aria_trajectory.csv\"),\n",
    "        \"mps_semidense_points_file\": os.path.join(example_adt_data_dir, \"mps\", \"slam\", \"semidense_points.csv.gz\"),\n",
    "        \"mps_semidense_observations_file\": os.path.join(example_adt_data_dir, \"mps\", \"slam\", \"semidense_observations.csv.gz\"),\n",
    "    },\n",
    "    gt_files={\n",
    "        \"obb3_file\": os.path.join(example_adt_data_dir, \"3d_bounding_box.csv\"),\n",
    "        \"obb3_traj_file\": os.path.join(\n",
    "            example_adt_data_dir, \"scene_objects.csv\"\n",
    "        ),\n",
    "        \"instance_json_file\": os.path.join(\n",
    "            example_adt_data_dir, \"instances.json\"\n",
    "        ),\n",
    "    },\n",
    "    depth_vrs_file = os.path.join(example_adt_data_dir, \"depth_images.vrs\")\n",
    ")\n",
    "\"\"\"\n",
    "\n"
   ]
  },
  {
   "cell_type": "code",
   "execution_count": 9,
   "id": "3627ef4e-615b-4686-9957-eac4e6df9e70",
   "metadata": {},
   "outputs": [
    {
     "name": "stdout",
     "output_type": "stream",
     "text": [
      "Loaded #closed loop trajectory poses records: 210\n",
      "dict_keys(['camera_rgb', 'camera_slam_left', 'camera_slam_right', 'mps_traj_data', 'mps_semidense_point_data', 'camera_rgb_depth', 'gt_data'])\n"
     ]
    }
   ],
   "source": [
    "# Print the frame dataclass keys\n",
    "sample = sample_builder.get_sample_by_timestamps_ns([100_000_000])\n",
    "from dataclasses import asdict\n",
    "print(asdict(sample).keys())"
   ]
  },
  {
   "cell_type": "markdown",
   "id": "f3cfcbf2",
   "metadata": {},
   "source": [
    "### 2. Write wds files"
   ]
  },
  {
   "cell_type": "code",
   "execution_count": 10,
   "id": "b8c0a560",
   "metadata": {
    "tags": []
   },
   "outputs": [
    {
     "name": "stderr",
     "output_type": "stream",
     "text": [
      "\u001b[38;2;000;128;000m[MultiRecordFileReader][DEBUG]: Opened file '/home/louy/Calibration_data_link/Atek/2024_05_07_EfmDataTest/ase_data_example/euston_simulation_100077_device0/video.vrs' and assigned to reader #0\u001b[0m\n",
      "\u001b[0m\u001b[38;2;000;000;255m[VrsDataProvider][INFO]: streamId 214-1/camera-rgb activated\u001b[0m\n",
      "\u001b[0m\u001b[38;2;000;000;255m[VrsDataProvider][INFO]: streamId 1201-1/camera-slam-left activated\u001b[0m\n",
      "\u001b[0m\u001b[38;2;000;000;255m[VrsDataProvider][INFO]: streamId 1201-2/camera-slam-right activated\u001b[0m\n",
      "\u001b[0m\u001b[38;2;000;000;255m[VrsDataProvider][INFO]: streamId 1202-1/imu-right activated\u001b[0m\n",
      "\u001b[0m\u001b[38;2;000;000;255m[VrsDataProvider][INFO]: streamId 1202-2/imu-left activated\u001b[0m\n",
      "\u001b[0m"
     ]
    },
    {
     "ename": "TypeError",
     "evalue": "'float' object is not iterable",
     "output_type": "error",
     "traceback": [
      "\u001b[0;31m---------------------------------------------------------------------------\u001b[0m",
      "\u001b[0;31mTypeError\u001b[0m                                 Traceback (most recent call last)",
      "Cell \u001b[0;32mIn[10], line 14\u001b[0m\n\u001b[1;32m     11\u001b[0m \u001b[38;5;28;01mfor\u001b[39;00m i \u001b[38;5;129;01min\u001b[39;00m \u001b[38;5;28mrange\u001b[39m(subsampler\u001b[38;5;241m.\u001b[39mget_total_num_samples()):\n\u001b[1;32m     12\u001b[0m     timestamps_ns \u001b[38;5;241m=\u001b[39m subsampler\u001b[38;5;241m.\u001b[39mget_timestamps_by_sample_index(i)\n\u001b[0;32m---> 14\u001b[0m     sample \u001b[38;5;241m=\u001b[39m \u001b[43msample_builder\u001b[49m\u001b[38;5;241;43m.\u001b[39;49m\u001b[43mget_sample_by_timestamps_ns\u001b[49m\u001b[43m(\u001b[49m\u001b[43mtimestamps_ns\u001b[49m\u001b[43m)\u001b[49m\n\u001b[1;32m     15\u001b[0m     \u001b[38;5;28;01mif\u001b[39;00m sample \u001b[38;5;129;01mis\u001b[39;00m \u001b[38;5;129;01mnot\u001b[39;00m \u001b[38;5;28;01mNone\u001b[39;00m:\n\u001b[1;32m     16\u001b[0m         atek_wds_writer\u001b[38;5;241m.\u001b[39madd_sample(data_sample \u001b[38;5;241m=\u001b[39m sample)\n",
      "File \u001b[0;32m~/fbsource/fbcode/surreal/data_services/atek/atek/data_preprocess/sample_builders/efm_sample_builder.py:196\u001b[0m, in \u001b[0;36mEfmSampleBuilder.get_sample_by_timestamps_ns\u001b[0;34m(self, timestamps_ns)\u001b[0m\n\u001b[1;32m    191\u001b[0m \u001b[38;5;66;03m# =======================================\u001b[39;00m\n\u001b[1;32m    192\u001b[0m \u001b[38;5;66;03m# MPS SemiDense data\u001b[39;00m\n\u001b[1;32m    193\u001b[0m \u001b[38;5;66;03m# =======================================\u001b[39;00m\n\u001b[1;32m    194\u001b[0m \u001b[38;5;28;01melif\u001b[39;00m \u001b[38;5;28misinstance\u001b[39m(processor, MpsSemiDenseProcessor):\n\u001b[1;32m    195\u001b[0m     maybe_mps_semidense_data \u001b[38;5;241m=\u001b[39m (\n\u001b[0;32m--> 196\u001b[0m         \u001b[43mprocessor\u001b[49m\u001b[38;5;241;43m.\u001b[39;49m\u001b[43mget_semidense_points_by_timestamps_ns\u001b[49m\u001b[43m(\u001b[49m\u001b[43mtimestamps_ns\u001b[49m\u001b[43m)\u001b[49m\n\u001b[1;32m    197\u001b[0m     )\n\u001b[1;32m    198\u001b[0m     \u001b[38;5;28;01mif\u001b[39;00m maybe_mps_semidense_data \u001b[38;5;129;01mis\u001b[39;00m \u001b[38;5;28;01mNone\u001b[39;00m:\n\u001b[1;32m    199\u001b[0m         logger\u001b[38;5;241m.\u001b[39mwarning(\n\u001b[1;32m    200\u001b[0m             \u001b[38;5;124mf\u001b[39m\u001b[38;5;124m\"\u001b[39m\u001b[38;5;124mQuerying MPS SemiDense data for \u001b[39m\u001b[38;5;132;01m{\u001b[39;00mtimestamps_ns\u001b[38;5;132;01m}\u001b[39;00m\u001b[38;5;124m has returned None, skipping this sample.\u001b[39m\u001b[38;5;124m\"\u001b[39m\n\u001b[1;32m    201\u001b[0m         )\n",
      "File \u001b[0;32m~/fbsource/fbcode/surreal/data_services/atek/atek/data_preprocess/processors/mps_semidense_processor.py:79\u001b[0m, in \u001b[0;36mMpsSemiDenseProcessor.get_semidense_points_by_timestamps_ns\u001b[0;34m(self, timestamps_ns)\u001b[0m\n\u001b[1;32m     77\u001b[0m dist_std \u001b[38;5;241m=\u001b[39m []\n\u001b[1;32m     78\u001b[0m inv_dist_std \u001b[38;5;241m=\u001b[39m []\n\u001b[0;32m---> 79\u001b[0m \u001b[38;5;28;01mfor\u001b[39;00m uid \u001b[38;5;129;01min\u001b[39;00m uid_list:\n\u001b[1;32m     80\u001b[0m     \u001b[38;5;28;01mif\u001b[39;00m (\n\u001b[1;32m     81\u001b[0m         (uid \u001b[38;5;129;01min\u001b[39;00m \u001b[38;5;28mself\u001b[39m\u001b[38;5;241m.\u001b[39muid_to_p3)\n\u001b[1;32m     82\u001b[0m         \u001b[38;5;129;01mand\u001b[39;00m (uid \u001b[38;5;129;01min\u001b[39;00m \u001b[38;5;28mself\u001b[39m\u001b[38;5;241m.\u001b[39muid_to_dist_std)\n\u001b[1;32m     83\u001b[0m         \u001b[38;5;129;01mand\u001b[39;00m (uid \u001b[38;5;129;01min\u001b[39;00m \u001b[38;5;28mself\u001b[39m\u001b[38;5;241m.\u001b[39muid_to_inv_dist_std)\n\u001b[1;32m     84\u001b[0m     ):\n\u001b[1;32m     85\u001b[0m         points_world\u001b[38;5;241m.\u001b[39mappend(\u001b[38;5;28mself\u001b[39m\u001b[38;5;241m.\u001b[39muid_to_p3[uid])\n",
      "\u001b[0;31mTypeError\u001b[0m: 'float' object is not iterable"
     ]
    }
   ],
   "source": [
    "from atek.data_preprocess.wds_writer import (\n",
    "    AtekWdsWriter,\n",
    ")\n",
    "from atek.data_preprocess.subsampling_lib.temporal_subsampler import CameraTemporalSubsampler\n",
    "\n",
    "subsampler = CameraTemporalSubsampler(vrs_file = os.path.join(example_ase_data_dir, \"video.vrs\"), conf = conf.camera_temporal_subsampler)\n",
    "\n",
    "conf.wds_writer.prefix_string = \"test\"\n",
    "atek_wds_writer = AtekWdsWriter(output_path = \"/home/louy/Calibration_data_link/Atek/2024_05_07_EfmDataTest/wds_output/test_ase_1\", conf = conf.wds_writer)\n",
    "\n",
    "for i in range(subsampler.get_total_num_samples()):\n",
    "    timestamps_ns = subsampler.get_timestamps_by_sample_index(i)\n",
    "\n",
    "    sample = sample_builder.get_sample_by_timestamps_ns(timestamps_ns)\n",
    "    if sample is not None:\n",
    "        atek_wds_writer.add_sample(data_sample = sample)\n",
    "\n",
    "atek_wds_writer.close()\n"
   ]
  }
 ],
 "metadata": {
  "custom": {
   "cells": [],
   "metadata": {
    "fileHeader": "",
    "fileUid": "02960dd7-5391-4356-ae77-2454d13d7847",
    "isAdHoc": false,
    "kernelspec": {
     "display_name": "Python 3 (ipykernel)",
     "language": "python",
     "name": "python3"
    },
    "language_info": {
     "codemirror_mode": {
      "name": "ipython",
      "version": 3
     },
     "file_extension": ".py",
     "mimetype": "text/x-python",
     "name": "python",
     "nbconvert_exporter": "python",
     "pygments_lexer": "ipython3",
     "version": "3.9.18"
    }
   },
   "nbformat": 4,
   "nbformat_minor": 5
  },
  "fileHeader": "",
  "fileUid": "914eff7c-c62b-46d1-968a-560c4cfe4b20",
  "indentAmount": 2,
  "isAdHoc": false,
  "kernelspec": {
   "display_name": "Python 3 (ipykernel)",
   "language": "python",
   "name": "python3"
  },
  "language_info": {
   "codemirror_mode": {
    "name": "ipython",
    "version": 3
   },
   "file_extension": ".py",
   "mimetype": "text/x-python",
   "name": "python",
   "nbconvert_exporter": "python",
   "pygments_lexer": "ipython3",
   "version": "3.9.18"
  }
 },
 "nbformat": 4,
 "nbformat_minor": 5
}
