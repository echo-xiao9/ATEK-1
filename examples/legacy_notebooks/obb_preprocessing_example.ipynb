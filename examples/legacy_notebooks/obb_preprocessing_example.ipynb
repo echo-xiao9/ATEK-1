{
 "cells": [
  {
   "cell_type": "markdown",
   "id": "dbb191bc",
   "metadata": {},
   "source": [
    "# ATEK Data Proprocessing Example"
   ]
  },
  {
   "cell_type": "markdown",
   "id": "5f8c32e7",
   "metadata": {},
   "source": [
    "### 1. Load the example adt data"
   ]
  },
  {
   "cell_type": "code",
   "execution_count": 5,
   "id": "4d00b2d5",
   "metadata": {
    "tags": []
   },
   "outputs": [],
   "source": [
    "import os\n",
    "\n",
    "from atek.data_preprocess.sample_builders.obb_sample_builder import ObbSampleBuilder\n",
    "from atek.data_preprocess.wds_writer import AtekWdsWriter\n",
    "\n",
    "from omegaconf import OmegaConf\n",
    "\n",
    "example_adt_data_dir = \"/home/louy/Calibration_data_link/Atek/2024_05_07_EfmDataTest/adt_data_example/Apartment_release_clean_seq134/1WM103600M1292_optitrack_release_clean_seq134\"\n",
    "example_ase_data_dir = \"/home/louy/Calibration_data_link/Atek/2024_05_07_EfmDataTest/ase_data_example/euston_simulation_100077_device0\"\n",
    "config_path = os.path.join(\"/home/louy/Calibration_data_link/Atek/2024_05_28_CubeRcnnTest/cubercnn_preprocess_adt_config.yaml\")\n",
    "\n",
    "conf = OmegaConf.load(config_path)"
   ]
  },
  {
   "cell_type": "markdown",
   "id": "fb3bddca",
   "metadata": {},
   "source": [
    "### 2. Sample builder example"
   ]
  },
  {
   "cell_type": "code",
   "execution_count": 10,
   "id": "783bee71",
   "metadata": {
    "tags": []
   },
   "outputs": [
    {
     "name": "stdout",
     "output_type": "stream",
     "text": [
      "Loaded #closed loop trajectory poses records: 2816\n",
      "dict_keys(['MFCD#camera-rgb+images_0.jpeg', 'MFCD#camera-rgb+capture_timestamps_ns.pth', 'MFCD#camera-rgb+frame_ids.pth', 'MFCD#camera-rgb+exposure_durations_s.pth', 'MFCD#camera-rgb+gains.pth', 'MFCD#camera-rgb+camera_label.txt', 'MFCD#camera-rgb+T_Device_Camera.pth', 'MFCD#camera-rgb+camera_model_name.txt', 'MFCD#camera-rgb+projection_params.pth', 'MFCD#camera-rgb+origin_camera_label.txt', 'MTD#Ts_World_Device.pth', 'MTD#capture_timestamps_ns.pth', 'MTD#gravity_in_world.pth', 'GtData.json'])\n"
     ]
    },
    {
     "name": "stderr",
     "output_type": "stream",
     "text": [
      "\u001b[38;2;000;128;000m[MultiRecordFileReader][DEBUG]: Opened file '/home/louy/Calibration_data_link/Atek/2024_05_07_EfmDataTest/adt_data_example/Apartment_release_clean_seq134/1WM103600M1292_optitrack_release_clean_seq134/video.vrs' and assigned to reader #0\u001b[0m\n",
      "\u001b[0m\u001b[38;2;000;000;255m[VrsDataProvider][INFO]: streamId 211-1/camera-et activated\u001b[0m\n",
      "\u001b[0m\u001b[38;2;000;000;255m[VrsDataProvider][INFO]: streamId 214-1/camera-rgb activated\u001b[0m\n",
      "\u001b[0m\u001b[38;2;000;000;255m[VrsDataProvider][INFO]: streamId 247-1/baro0 activated\u001b[0m\n",
      "\u001b[0m\u001b[38;2;255;165;000m[VrsDataProvider][WARNING]: Unsupported TimeSync mode: APP, ignoring.\u001b[0m\n",
      "\u001b[0m\u001b[38;2;000;000;255m[VrsDataProvider][INFO]: Timecode stream found: 285-2\u001b[0m\n",
      "\u001b[0m\u001b[38;2;000;000;255m[VrsDataProvider][INFO]: streamId 1201-1/camera-slam-left activated\u001b[0m\n",
      "\u001b[0m\u001b[38;2;000;000;255m[VrsDataProvider][INFO]: streamId 1201-2/camera-slam-right activated\u001b[0m\n",
      "\u001b[0m\u001b[38;2;000;000;255m[VrsDataProvider][INFO]: streamId 1202-1/imu-right activated\u001b[0m\n",
      "\u001b[0m\u001b[38;2;000;000;255m[VrsDataProvider][INFO]: streamId 1202-2/imu-left activated\u001b[0m\n",
      "\u001b[0m\u001b[38;2;000;000;255m[VrsDataProvider][INFO]: streamId 1203-1/mag0 activated\u001b[0m\n",
      "\u001b[0m"
     ]
    }
   ],
   "source": [
    "sample_builder = ObbSampleBuilder(\n",
    "            conf=conf.processors,\n",
    "            vrs_file=os.path.join(example_adt_data_dir, \"video.vrs\"),\n",
    "            mps_files={\n",
    "                \"mps_closedloop_traj_file\": os.path.join(\n",
    "                    example_adt_data_dir, \"aria_trajectory.csv\"\n",
    "                ),\n",
    "            },\n",
    "            gt_files={\n",
    "                \"obb3_file\": os.path.join(example_adt_data_dir, \"3d_bounding_box.csv\"),\n",
    "                \"obb3_traj_file\": os.path.join(\n",
    "                    example_adt_data_dir, \"scene_objects.csv\"\n",
    "                ),\n",
    "                \"obb2_file\": os.path.join(example_adt_data_dir, \"2d_bounding_box.csv\"),\n",
    "                \"instance_json_file\": os.path.join(\n",
    "                    example_adt_data_dir, \"instances.json\"\n",
    "                ),\n",
    "            },\n",
    "        )\n",
    "\n",
    "# Print the frame dataclass keys\n",
    "sample = sample_builder.get_sample_by_timestamp_ns(14_594_232_547_562)\n",
    "print(sample.to_flatten_dict().keys())"
   ]
  },
  {
   "cell_type": "markdown",
   "id": "1325acd8",
   "metadata": {},
   "source": [
    "### 2. Write wds files"
   ]
  },
  {
   "cell_type": "code",
   "execution_count": 12,
   "id": "b02d9c5e",
   "metadata": {
    "tags": []
   },
   "outputs": [
    {
     "name": "stderr",
     "output_type": "stream",
     "text": [
      "\u001b[38;2;000;128;000m[MultiRecordFileReader][DEBUG]: Opened file '/home/louy/Calibration_data_link/Atek/2024_05_07_EfmDataTest/adt_data_example/Apartment_release_clean_seq134/1WM103600M1292_optitrack_release_clean_seq134/video.vrs' and assigned to reader #0\u001b[0m\n",
      "\u001b[0m\u001b[38;2;000;000;255m[VrsDataProvider][INFO]: streamId 211-1/camera-et activated\u001b[0m\n",
      "\u001b[0m\u001b[38;2;000;000;255m[VrsDataProvider][INFO]: streamId 214-1/camera-rgb activated\u001b[0m\n",
      "\u001b[0m\u001b[38;2;000;000;255m[VrsDataProvider][INFO]: streamId 247-1/baro0 activated\u001b[0m\n",
      "\u001b[0m\u001b[38;2;255;165;000m[VrsDataProvider][WARNING]: Unsupported TimeSync mode: APP, ignoring.\u001b[0m\n",
      "\u001b[0m\u001b[38;2;000;000;255m[VrsDataProvider][INFO]: Timecode stream found: 285-2\u001b[0m\n",
      "\u001b[0m\u001b[38;2;000;000;255m[VrsDataProvider][INFO]: streamId 1201-1/camera-slam-left activated\u001b[0m\n",
      "\u001b[0m\u001b[38;2;000;000;255m[VrsDataProvider][INFO]: streamId 1201-2/camera-slam-right activated\u001b[0m\n",
      "\u001b[0m\u001b[38;2;000;000;255m[VrsDataProvider][INFO]: streamId 1202-1/imu-right activated\u001b[0m\n",
      "\u001b[0m\u001b[38;2;000;000;255m[VrsDataProvider][INFO]: streamId 1202-2/imu-left activated\u001b[0m\n",
      "\u001b[0m\u001b[38;2;000;000;255m[VrsDataProvider][INFO]: streamId 1203-1/mag0 activated\u001b[0m\n",
      "\u001b[0mQuerying MPS traj for 14579434921812 has returned None, skipping this sample.\n",
      "Querying MPS traj for 14579634891650 has returned None, skipping this sample.\n",
      "Querying MPS traj for 14579834858775 has returned None, skipping this sample.\n",
      "Querying MPS traj for 14580034825312 has returned None, skipping this sample.\n",
      "Querying MPS traj for 14580234792975 has returned None, skipping this sample.\n",
      "Querying MPS traj for 14580434760687 has returned None, skipping this sample.\n",
      "Querying MPS traj for 14580634728350 has returned None, skipping this sample.\n",
      "Querying MPS traj for 14580834696062 has returned None, skipping this sample.\n",
      "Querying MPS traj for 14581034663725 has returned None, skipping this sample.\n",
      "Querying MPS traj for 14581234635150 has returned None, skipping this sample.\n",
      "Querying MPS traj for 14581434602812 has returned None, skipping this sample.\n",
      "Querying MPS traj for 14581634570525 has returned None, skipping this sample.\n",
      "Querying MPS traj for 14581834538725 has returned None, skipping this sample.\n",
      "Querying MPS traj for 14582034498150 has returned None, skipping this sample.\n",
      "Querying MPS traj for 14582234473525 has returned None, skipping this sample.\n",
      "Querying MPS traj for 14582434443400 has returned None, skipping this sample.\n",
      "Querying MPS traj for 14582634412062 has returned None, skipping this sample.\n",
      "Querying MPS traj for 14582834371025 has returned None, skipping this sample.\n",
      "Querying MPS traj for 14583034341150 has returned None, skipping this sample.\n",
      "Querying MPS traj for 14583234311275 has returned None, skipping this sample.\n",
      "Querying MPS traj for 14583434274062 has returned None, skipping this sample.\n",
      "Querying MPS traj for 14583634245475 has returned None, skipping this sample.\n",
      "Querying MPS traj for 14583834219025 has returned None, skipping this sample.\n",
      "Querying MPS traj for 14584034184475 has returned None, skipping this sample.\n",
      "Querying MPS traj for 14584234154350 has returned None, skipping this sample.\n",
      "Querying MPS traj for 14584434121025 has returned None, skipping this sample.\n",
      "Querying MPS traj for 14584634092975 has returned None, skipping this sample.\n",
      "Querying MPS traj for 14584834060687 has returned None, skipping this sample.\n",
      "Querying MPS traj for 14585034024100 has returned None, skipping this sample.\n",
      "Querying MPS traj for 14585233993062 has returned None, skipping this sample.\n",
      "Querying MPS traj for 14585433963312 has returned None, skipping this sample.\n",
      "Querying MPS traj for 14585633928312 has returned None, skipping this sample.\n",
      "Querying MPS traj for 14585833889725 has returned None, skipping this sample.\n",
      "Querying MPS traj for 14586033867312 has returned None, skipping this sample.\n",
      "Querying MPS traj for 14586233834975 has returned None, skipping this sample.\n",
      "Querying MPS traj for 14586433801312 has returned None, skipping this sample.\n",
      "Querying MPS traj for 14586633766650 has returned None, skipping this sample.\n",
      "Querying MPS traj for 14586833738400 has returned None, skipping this sample.\n",
      "Querying MPS traj for 14587033698437 has returned None, skipping this sample.\n",
      "Querying MPS traj for 14587233670900 has returned None, skipping this sample.\n",
      "Querying MPS traj for 14587433646150 has returned None, skipping this sample.\n",
      "Querying MPS traj for 14587633613312 has returned None, skipping this sample.\n",
      "Querying MPS traj for 14587833571100 has returned None, skipping this sample.\n"
     ]
    },
    {
     "name": "stdout",
     "output_type": "stream",
     "text": [
      "# writing /home/louy/Calibration_data_link/Atek/2024_05_28_CubeRcnnTest/wds_output/test_cubercnn_adt/shards-0000.tar 0 0.0 GB 0\n",
      "# writing /home/louy/Calibration_data_link/Atek/2024_05_28_CubeRcnnTest/wds_output/test_cubercnn_adt/shards-0001.tar 32 0.0 GB 32\n",
      "# writing /home/louy/Calibration_data_link/Atek/2024_05_28_CubeRcnnTest/wds_output/test_cubercnn_adt/shards-0002.tar 32 0.0 GB 64\n",
      "# writing /home/louy/Calibration_data_link/Atek/2024_05_28_CubeRcnnTest/wds_output/test_cubercnn_adt/shards-0003.tar 32 0.0 GB 96\n",
      "# writing /home/louy/Calibration_data_link/Atek/2024_05_28_CubeRcnnTest/wds_output/test_cubercnn_adt/shards-0004.tar 32 0.0 GB 128\n",
      "# writing /home/louy/Calibration_data_link/Atek/2024_05_28_CubeRcnnTest/wds_output/test_cubercnn_adt/shards-0005.tar 32 0.0 GB 160\n",
      "# writing /home/louy/Calibration_data_link/Atek/2024_05_28_CubeRcnnTest/wds_output/test_cubercnn_adt/shards-0006.tar 32 0.0 GB 192\n",
      "# writing /home/louy/Calibration_data_link/Atek/2024_05_28_CubeRcnnTest/wds_output/test_cubercnn_adt/shards-0007.tar 32 0.0 GB 224\n",
      "# writing /home/louy/Calibration_data_link/Atek/2024_05_28_CubeRcnnTest/wds_output/test_cubercnn_adt/shards-0008.tar 32 0.0 GB 256\n",
      "# writing /home/louy/Calibration_data_link/Atek/2024_05_28_CubeRcnnTest/wds_output/test_cubercnn_adt/shards-0009.tar 32 0.0 GB 288\n",
      "# writing /home/louy/Calibration_data_link/Atek/2024_05_28_CubeRcnnTest/wds_output/test_cubercnn_adt/shards-0010.tar 32 0.0 GB 320\n",
      "# writing /home/louy/Calibration_data_link/Atek/2024_05_28_CubeRcnnTest/wds_output/test_cubercnn_adt/shards-0011.tar 32 0.0 GB 352\n",
      "# writing /home/louy/Calibration_data_link/Atek/2024_05_28_CubeRcnnTest/wds_output/test_cubercnn_adt/shards-0012.tar 32 0.0 GB 384\n",
      "# writing /home/louy/Calibration_data_link/Atek/2024_05_28_CubeRcnnTest/wds_output/test_cubercnn_adt/shards-0013.tar 32 0.0 GB 416\n",
      "# writing /home/louy/Calibration_data_link/Atek/2024_05_28_CubeRcnnTest/wds_output/test_cubercnn_adt/shards-0014.tar 32 0.0 GB 448\n"
     ]
    },
    {
     "name": "stderr",
     "output_type": "stream",
     "text": [
      "Querying MPS traj for 14681818533475 has returned None, skipping this sample.\n",
      "Querying MPS traj for 14682018501062 has returned None, skipping this sample.\n",
      "Querying MPS traj for 14682218472812 has returned None, skipping this sample.\n",
      "Querying MPS traj for 14682418433812 has returned None, skipping this sample.\n",
      "Querying MPS traj for 14682618401475 has returned None, skipping this sample.\n",
      "Querying MPS traj for 14682818369187 has returned None, skipping this sample.\n",
      "Querying MPS traj for 14683018336850 has returned None, skipping this sample.\n",
      "Querying MPS traj for 14683218312725 has returned None, skipping this sample.\n",
      "Querying MPS traj for 14683418283725 has returned None, skipping this sample.\n",
      "Querying MPS traj for 14683618251437 has returned None, skipping this sample.\n",
      "Querying MPS traj for 14683818222812 has returned None, skipping this sample.\n",
      "Querying MPS traj for 14684018186062 has returned None, skipping this sample.\n",
      "Querying MPS traj for 14684218149900 has returned None, skipping this sample.\n",
      "Querying MPS traj for 14684418120350 has returned None, skipping this sample.\n",
      "Querying MPS traj for 14684618083437 has returned None, skipping this sample.\n",
      "Querying MPS traj for 14684818052400 has returned None, skipping this sample.\n",
      "Querying MPS traj for 14685018024100 has returned None, skipping this sample.\n",
      "Querying MPS traj for 14685217988350 has returned None, skipping this sample.\n",
      "Querying MPS traj for 14685417957850 has returned None, skipping this sample.\n",
      "Querying MPS traj for 14685617932850 has returned None, skipping this sample.\n",
      "Querying MPS traj for 14685817896687 has returned None, skipping this sample.\n",
      "Querying MPS traj for 14686017867025 has returned None, skipping this sample.\n",
      "Querying MPS traj for 14686217837775 has returned None, skipping this sample.\n",
      "Querying MPS traj for 14686417805475 has returned None, skipping this sample.\n",
      "Querying MPS traj for 14686617763150 has returned None, skipping this sample.\n",
      "Querying MPS traj for 14686817734312 has returned None, skipping this sample.\n",
      "Querying MPS traj for 14687017704900 has returned None, skipping this sample.\n",
      "Querying MPS traj for 14687217751650 has returned None, skipping this sample.\n",
      "Querying MPS traj for 14687417642850 has returned None, skipping this sample.\n",
      "Querying MPS traj for 14687617602475 has returned None, skipping this sample.\n",
      "Querying MPS traj for 14687817570150 has returned None, skipping this sample.\n",
      "Querying MPS traj for 14688017539312 has returned None, skipping this sample.\n",
      "Querying MPS traj for 14688217507025 has returned None, skipping this sample.\n",
      "Querying MPS traj for 14688417474687 has returned None, skipping this sample.\n",
      "Querying MPS traj for 14688617454937 has returned None, skipping this sample.\n",
      "Querying MPS traj for 14688817411225 has returned None, skipping this sample.\n",
      "Querying MPS traj for 14689017383812 has returned None, skipping this sample.\n",
      "Querying MPS traj for 14689217348725 has returned None, skipping this sample.\n",
      "Querying MPS traj for 14689417314850 has returned None, skipping this sample.\n",
      "Querying MPS traj for 14689617295850 has returned None, skipping this sample.\n",
      "Querying MPS traj for 14689817253312 has returned None, skipping this sample.\n",
      "Querying MPS traj for 14690017219400 has returned None, skipping this sample.\n",
      "Querying MPS traj for 14690217187850 has returned None, skipping this sample.\n",
      "Querying MPS traj for 14690417158650 has returned None, skipping this sample.\n",
      "Querying MPS traj for 14690617121225 has returned None, skipping this sample.\n",
      "Querying MPS traj for 14690817100150 has returned None, skipping this sample.\n",
      "Querying MPS traj for 14691017065725 has returned None, skipping this sample.\n",
      "Querying MPS traj for 14691217033475 has returned None, skipping this sample.\n",
      "Querying MPS traj for 14691417002775 has returned None, skipping this sample.\n",
      "Querying MPS traj for 14691616970475 has returned None, skipping this sample.\n",
      "Querying MPS traj for 14691816938150 has returned None, skipping this sample.\n",
      "Querying MPS traj for 14692016908937 has returned None, skipping this sample.\n",
      "Querying MPS traj for 14692216876600 has returned None, skipping this sample.\n",
      "Querying MPS traj for 14692416844312 has returned None, skipping this sample.\n",
      "Querying MPS traj for 14692616811975 has returned None, skipping this sample.\n",
      "Querying MPS traj for 14692816779687 has returned None, skipping this sample.\n",
      "Querying MPS traj for 14693016740900 has returned None, skipping this sample.\n",
      "Querying MPS traj for 14693216709600 has returned None, skipping this sample.\n",
      "Querying MPS traj for 14693416683275 has returned None, skipping this sample.\n",
      "Querying MPS traj for 14693616650475 has returned None, skipping this sample.\n",
      "Querying MPS traj for 14693816618475 has returned None, skipping this sample.\n"
     ]
    }
   ],
   "source": [
    "from atek.data_preprocess.wds_writer import (\n",
    "    AtekWdsWriter,\n",
    ")\n",
    "from atek.data_preprocess.subsampling_lib.temporal_subsampler import CameraTemporalSubsampler\n",
    "\n",
    "subsampler = CameraTemporalSubsampler(vrs_file = os.path.join(example_adt_data_dir, \"video.vrs\"), conf = conf.camera_temporal_subsampler)\n",
    "\n",
    "conf.wds_writer.prefix_string = \"test\"\n",
    "atek_wds_writer = AtekWdsWriter(output_path = \"/home/louy/Calibration_data_link/Atek/2024_05_28_CubeRcnnTest/wds_output/test_cubercnn_adt\", conf = conf.wds_writer)\n",
    "\n",
    "for i in range(subsampler.get_total_num_samples()):\n",
    "    timestamps_ns = subsampler.get_timestamps_by_sample_index(i)\n",
    "    \n",
    "    for t in timestamps_ns:\n",
    "        sample = sample_builder.get_sample_by_timestamp_ns(t)\n",
    "        if sample is not None:\n",
    "            atek_wds_writer.add_sample(data_sample = sample)\n",
    "\n",
    "atek_wds_writer.close()\n"
   ]
  }
 ],
 "metadata": {
  "custom": {
   "cells": [],
   "metadata": {
    "fileHeader": "",
    "fileUid": "02960dd7-5391-4356-ae77-2454d13d7847",
    "isAdHoc": false,
    "kernelspec": {
     "display_name": "Python 3 (ipykernel)",
     "language": "python",
     "name": "python3"
    },
    "language_info": {
     "codemirror_mode": {
      "name": "ipython",
      "version": 3
     },
     "file_extension": ".py",
     "mimetype": "text/x-python",
     "name": "python",
     "nbconvert_exporter": "python",
     "pygments_lexer": "ipython3",
     "version": "3.9.18"
    }
   },
   "nbformat": 4,
   "nbformat_minor": 5
  },
  "fileHeader": "",
  "fileUid": "914eff7c-c62b-46d1-968a-560c4cfe4b20",
  "indentAmount": 2,
  "isAdHoc": false,
  "kernelspec": {
   "display_name": "Python 3 (ipykernel)",
   "language": "python",
   "name": "python3"
  },
  "language_info": {
   "codemirror_mode": {
    "name": "ipython",
    "version": 3
   },
   "file_extension": ".py",
   "mimetype": "text/x-python",
   "name": "python",
   "nbconvert_exporter": "python",
   "pygments_lexer": "ipython3",
   "version": "3.9.18"
  }
 },
 "nbformat": 4,
 "nbformat_minor": 5
}
